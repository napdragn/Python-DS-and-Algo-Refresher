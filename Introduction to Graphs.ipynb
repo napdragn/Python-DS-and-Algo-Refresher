{
 "cells": [
  {
   "cell_type": "markdown",
   "metadata": {},
   "source": [
    "### Implement Graph"
   ]
  },
  {
   "cell_type": "markdown",
   "metadata": {},
   "source": [
    "#### State Enum"
   ]
  },
  {
   "cell_type": "markdown",
   "metadata": {},
   "source": [
    "We Create an enum class called states that is used to represent the state of a vertex at any given time."
   ]
  },
  {
   "cell_type": "code",
   "execution_count": 1,
   "metadata": {},
   "outputs": [],
   "source": [
    "from enum import Enum\n",
    "class State(Enum):\n",
    "    visited = 1\n",
    "    unvisited = 2\n",
    "    visiting = 3"
   ]
  },
  {
   "cell_type": "markdown",
   "metadata": {},
   "source": [
    "#### Vertex Class "
   ]
  },
  {
   "cell_type": "markdown",
   "metadata": {},
   "source": [
    "The Vertex class is used to create the vertices for the graph."
   ]
  },
  {
   "cell_type": "code",
   "execution_count": 2,
   "metadata": {},
   "outputs": [],
   "source": [
    "class Vertex:\n",
    "    def __init__(self, key):\n",
    "        self.key = key\n",
    "        self.neighbors = dict()\n",
    "        self.state = State.unvisited\n",
    "    \n",
    "    def __str__(self):\n",
    "        return str(self.key)\n",
    "    \n",
    "    def get_key(self):\n",
    "        return self.key\n",
    "    \n",
    "    def get_state(self):\n",
    "        self.state.name"
   ]
  },
  {
   "cell_type": "markdown",
   "metadata": {},
   "source": [
    "#### Directed Graph"
   ]
  },
  {
   "cell_type": "code",
   "execution_count": 3,
   "metadata": {},
   "outputs": [],
   "source": [
    "class DirectedGraph:\n",
    "    def __init__(self):\n",
    "        # Contains the mapping of the vertex keys to the corresponding vertex\n",
    "        self.vertex_map = dict()\n",
    "    \n",
    "    def __contains__(self,n):\n",
    "        return n in self.vertex_map\n",
    "    \n",
    "    def __iter__(self):\n",
    "        return iter(self.vertex_map.values())\n",
    "    \n",
    "    def add_vertex(self, vert_key):\n",
    "        new_vertex = Vertex(vert_key)\n",
    "        self.vertex_map[vert_key] = new_vertex\n",
    "        return new_vertex\n",
    "    \n",
    "    def add_edge(self, from_vertex, to_vertex, weight=0):\n",
    "        # Create the 2 vertexes if not present\n",
    "        if from_vertex not in self.vertex_map:\n",
    "            self.add_vertex(from_vertex)\n",
    "        if to_vertex not in self.vertex_map:\n",
    "            self.add_vertex(to_vertex)\n",
    "        \n",
    "        self.vertex_map[from_vertex].neighbors[to_vertex] = weight\n",
    "    \n",
    "    def remove_edge(self, from_vertex, to_vertex):\n",
    "        if from_vertex not in self.vertex_map:\n",
    "            raise Exception(f\"{from_vertex} not found in the graph.\")\n",
    "        elif to_vertex not in self.vertex_map:\n",
    "            raise Exception(f\"{to_vertex} not found in the graph.\")\n",
    "        \n",
    "        if not self.vertex_map[from_vertex].neighbors.get(to_vertex):\n",
    "            raise Exception(f\"Edge {from_vertex} -> {to_vertex} doesn't exist!\")\n",
    "        \n",
    "        return self.vertex_map[from_vertex].neighbors.pop(to_vertex)\n",
    "    \n",
    "    def get_vertex_connections(self, vert):\n",
    "        if vert not in self.vertex_map:\n",
    "            raise Exception(f\"{vert} doesn't exists in this graph!\")\n",
    "        \n",
    "        for key, val in self.vertex_map[vert].neighbors.items():\n",
    "            print(f\"{vert} -> {key}, Weight: {val}\")\n",
    "    \n",
    "    def print_graph(self):\n",
    "        print(\"#######################################\")\n",
    "        for key, val in self.vertex_map.items():\n",
    "            print(f\"{key} -> {val.neighbors}\")\n",
    "        print(\"#######################################\")\n",
    "        \n",
    "    def get_all_vertices(self):\n",
    "        return list(self.vertex_map.keys())"
   ]
  },
  {
   "cell_type": "code",
   "execution_count": 4,
   "metadata": {},
   "outputs": [],
   "source": [
    "test_graph = DirectedGraph()\n",
    "test_graph.add_edge('a', 'b')\n",
    "test_graph.add_edge('a', 'c')\n",
    "test_graph.add_edge('b', 'f')\n",
    "test_graph.add_edge('c', 'f')\n",
    "test_graph.add_edge('f', 'e')\n",
    "test_graph.add_edge('e', 'c')\n",
    "test_graph.add_edge('c', 'd')\n",
    "test_graph.add_edge('d', 'e')\n",
    "test_graph.add_edge('d', 'a')"
   ]
  },
  {
   "cell_type": "code",
   "execution_count": 5,
   "metadata": {
    "scrolled": true
   },
   "outputs": [
    {
     "name": "stdout",
     "output_type": "stream",
     "text": [
      "#######################################\n",
      "a -> {'b': 0, 'c': 0}\n",
      "b -> {'f': 0}\n",
      "c -> {'f': 0, 'd': 0}\n",
      "f -> {'e': 0}\n",
      "e -> {'c': 0}\n",
      "d -> {'e': 0, 'a': 0}\n",
      "#######################################\n"
     ]
    }
   ],
   "source": [
    "test_graph.print_graph()"
   ]
  },
  {
   "cell_type": "markdown",
   "metadata": {},
   "source": [
    "#### Undirected Graph"
   ]
  },
  {
   "cell_type": "code",
   "execution_count": 6,
   "metadata": {},
   "outputs": [],
   "source": [
    "class UndirectedGraph:\n",
    "    def __init__(self):\n",
    "        # Contains the mapping of the vertex keys to the corresponding vertex\n",
    "        self.vertex_map = dict()\n",
    "    \n",
    "    def __contains__(self,n):\n",
    "        return n in self.vertex_map\n",
    "    \n",
    "    def __iter__(self):\n",
    "        return iter(self.vertex_map.values())\n",
    "    \n",
    "    def add_vertex(self, vert_key):\n",
    "        new_vertex = Vertex(vert_key)\n",
    "        self.vertex_map[vert_key] = new_vertex\n",
    "        return new_vertex\n",
    "    \n",
    "    def add_edge(self, from_vertex, to_vertex, weight=0):\n",
    "        # Create the 2 vertexes if not present\n",
    "        if from_vertex not in self.vertex_map:\n",
    "            self.add_vertex(from_vertex)\n",
    "        if to_vertex not in self.vertex_map:\n",
    "            self.add_vertex(to_vertex)\n",
    "        \n",
    "        self.vertex_map[from_vertex].neighbors[to_vertex] = weight\n",
    "        self.vertex_map[to_vertex].neighbors[from_vertex] = weight\n",
    "    \n",
    "    def remove_edge(self, from_vertex, to_vertex):\n",
    "        if from_vertex not in self.vertex_map:\n",
    "            raise Exception(f\"{from_vertex} not found in the graph.\")\n",
    "        elif to_vertex not in self.vertex_map:\n",
    "            raise Exception(f\"{to_vertex} not found in the graph.\")\n",
    "        \n",
    "        if not self.vertex_map[from_vertex].neighbors.get(to_vertex):\n",
    "            raise Exception(f\"Edge {from_vertex} -> {to_vertex} doesn't exist!\")\n",
    "        \n",
    "        self.vertex_map[from_vertex].neighbors.pop(to_vertex)\n",
    "        self.vertex_map[to_vertex].neighbors.pop(from_vertex)\n",
    "    \n",
    "    def get_vertex_connections(self, vert):\n",
    "        if vert not in self.vertex_map:\n",
    "            raise Exception(f\"{vert} doesn't exists in this graph!\")\n",
    "        \n",
    "        for key, val in self.vertex_map[vert].neighbors.items():\n",
    "            print(f\"{vert} -> {key}, Weight: {val}\")\n",
    "    \n",
    "    def get_all_vertices(self):\n",
    "        return list(self.vertex_map.keys())\n",
    "    \n",
    "    def print_graph(self):\n",
    "        print(\"#######################################\")\n",
    "        for key, val in self.vertex_map.items():\n",
    "            print(f\"{key} -> {val.neighbors}\")\n",
    "        print(\"#######################################\")"
   ]
  },
  {
   "cell_type": "markdown",
   "metadata": {},
   "source": [
    "### [Bipartite and complete Bipartite Graph](https://www.youtube.com/watch?v=gvQQ7f_BapE)"
   ]
  },
  {
   "cell_type": "markdown",
   "metadata": {},
   "source": [
    "* Bipartite Graph: A graph is said to be bipartite if all the vertices in the graph can be divided into 2 disjoin sets, V1 and V2 such that all vertices in V1 are connected to all vertices in V2 by atleast one edge, i.e. each edge of the graph has it's one edge in V1 and the other edge in V2.\n",
    "* Complete Bipartite Graph: A Bipartite graph is said to be a complete Bipartite graph if and only if all the vertices in V1 has a connection with all vertices in V2 via an edge."
   ]
  },
  {
   "cell_type": "markdown",
   "metadata": {},
   "source": [
    "### BFS and DFS easy implementation"
   ]
  },
  {
   "cell_type": "code",
   "execution_count": 7,
   "metadata": {},
   "outputs": [],
   "source": [
    "extended_test_graph = {\n",
    "    \"a\": set([\"b\", \"c\"]),\n",
    "    \"b\": set([\"f\"]),\n",
    "    \"c\": set([\"d\", \"f\"]),\n",
    "    \"d\": set([\"a\", \"e\"]),\n",
    "    \"e\": set([\"c\"]),\n",
    "    \"f\": set([\"e\", \"g\"]),\n",
    "    \"g\": set()\n",
    "}"
   ]
  },
  {
   "cell_type": "code",
   "execution_count": 8,
   "metadata": {},
   "outputs": [],
   "source": [
    "from queue import deque\n",
    "def BFS(graph, start):\n",
    "    visited = set()\n",
    "    q = deque()\n",
    "    q.appendleft(start)\n",
    "    while q:\n",
    "        ele = q.pop()\n",
    "        if ele not in visited:\n",
    "            print(f\"{ele}\", end=\" \")\n",
    "            visited.add(ele)\n",
    "            q.extendleft(graph[ele] - visited)"
   ]
  },
  {
   "cell_type": "code",
   "execution_count": 9,
   "metadata": {},
   "outputs": [],
   "source": [
    "def DFS(graph, start):\n",
    "    visited = set()\n",
    "    queue = [start]\n",
    "    while queue:\n",
    "        ele = queue.pop()\n",
    "        if ele not in visited:\n",
    "            print(ele, end=\" \")\n",
    "            visited.add(ele)\n",
    "            queue.extend(graph[ele] - visited)"
   ]
  },
  {
   "cell_type": "code",
   "execution_count": 10,
   "metadata": {},
   "outputs": [
    {
     "name": "stdout",
     "output_type": "stream",
     "text": [
      "BFS\n",
      "a c b f d g e \n",
      "DFS\n",
      "a b f e c d g "
     ]
    }
   ],
   "source": [
    "print(\"BFS\")\n",
    "BFS(extended_test_graph, \"a\")\n",
    "print(\"\\nDFS\")\n",
    "DFS(extended_test_graph, \"a\")"
   ]
  },
  {
   "cell_type": "code",
   "execution_count": 11,
   "metadata": {},
   "outputs": [],
   "source": [
    "def DFS_recursion(graph, start_vertex):\n",
    "    def DFS_recursion_helper(vertex, visited):\n",
    "        if vertex in visited:\n",
    "            return\n",
    "        visited.add(vertex)\n",
    "        print(vertex, end=\" \")\n",
    "        for neigbor in graph[vertex]:\n",
    "            DFS_recursion_helper(neigbor, visited)\n",
    "    visited = set()\n",
    "    DFS_recursion_helper(start_vertex, visited)"
   ]
  },
  {
   "cell_type": "code",
   "execution_count": 12,
   "metadata": {},
   "outputs": [
    {
     "name": "stdout",
     "output_type": "stream",
     "text": [
      "a c f g e d b "
     ]
    }
   ],
   "source": [
    "DFS_recursion(extended_test_graph, 'a')"
   ]
  },
  {
   "cell_type": "markdown",
   "metadata": {},
   "source": [
    "### Detect Cycle in a graph"
   ]
  },
  {
   "cell_type": "markdown",
   "metadata": {},
   "source": [
    "#### [Detect Cycle with Disjoint Sets](https://www.youtube.com/watch?v=n_t0a_8H8VY)"
   ]
  },
  {
   "cell_type": "markdown",
   "metadata": {},
   "source": [
    "Detect cycle with disjoint sets is the concept where initially all the vertexes in the graph start out as disjoint sets (each vertex has it's own set that is initially empty except for itself. When a connection is established between 2 sets then the 2 sets are combined and this goes on. If we find and edge which tries to combine 2 elements which are already in the same set then that means that there is a cycle in the graph.\n",
    "\n",
    "1. Each vertex starts out as it's own set with nothing else in it apart from itself.\n",
    "2. When an edge is found then we combine the 2 sets and choose one of the elements in the set to represent the whole set.\n",
    "3. When an edge tries to connect 2 vertexes which are already in the same set then that means that a cycle exists in the graph."
   ]
  },
  {
   "cell_type": "markdown",
   "metadata": {},
   "source": [
    "#### [Detect cycle with DFS](https://www.geeksforgeeks.org/detect-cycle-in-a-graph/)"
   ]
  },
  {
   "cell_type": "markdown",
   "metadata": {},
   "source": [
    "Here we have 2 different dictionaries, visited and recursion. Both of these dictionaries contain all the vertices present in the graph and a boolean as it's value.\n",
    "\n",
    "The condition for a graph to contain a cycle is when:\n",
    "1. We are able to reach a vertex which is already currently existsing in the recursion dict (value of that is True). What this means is that while we are traversing the graph with DFS we stumbled back onto a vertex which we have already passed while traversing to the current vertex"
   ]
  },
  {
   "cell_type": "code",
   "execution_count": 13,
   "metadata": {},
   "outputs": [],
   "source": [
    "class DirectedGraphIsCyclicWrapper(DirectedGraph):\n",
    "    def is_cyclic_util(self, vertex, visited, recursion):\n",
    "        visited[vertex] = True\n",
    "        recursion[vertex] = True\n",
    "        \n",
    "        for neighbor in self.vertex_map[vertex].neighbors:\n",
    "            if not visited[neighbor]:\n",
    "                if self.is_cyclic_util(neighbor, visited, recursion):\n",
    "                    return True\n",
    "            elif recursion[neighbor]:\n",
    "                return True\n",
    "        \n",
    "        recursion[vertex] = False\n",
    "        return False\n",
    "    \n",
    "    def is_cyclic(self):\n",
    "        visited = {vert: False for vert in self.vertex_map}\n",
    "        recursion = {vert: False for vert in self.vertex_map}\n",
    "        for vertex in self.vertex_map:\n",
    "            if self.is_cyclic_util(vertex, visited, recursion):\n",
    "                return True\n",
    "        return False"
   ]
  },
  {
   "cell_type": "code",
   "execution_count": 14,
   "metadata": {
    "scrolled": true
   },
   "outputs": [
    {
     "name": "stdout",
     "output_type": "stream",
     "text": [
      "#######################################\n",
      "a -> {'b': 0, 'c': 0}\n",
      "b -> {'f': 0}\n",
      "c -> {'d': 0, 'f': 0}\n",
      "f -> {'e': 0}\n",
      "d -> {'a': 0, 'e': 0}\n",
      "e -> {'c': 0}\n",
      "#######################################\n",
      "True\n"
     ]
    }
   ],
   "source": [
    "cyclic_test_graph = DirectedGraphIsCyclicWrapper()\n",
    "cyclic_test_graph.add_edge('a', 'b')\n",
    "cyclic_test_graph.add_edge('a', 'c')\n",
    "cyclic_test_graph.add_edge('b', 'f')\n",
    "cyclic_test_graph.add_edge('c', 'd')\n",
    "cyclic_test_graph.add_edge('c', 'f')\n",
    "cyclic_test_graph.add_edge('d', 'a')\n",
    "cyclic_test_graph.add_edge('d', 'e')\n",
    "cyclic_test_graph.add_edge('e', 'c')\n",
    "cyclic_test_graph.add_edge('f', 'e')\n",
    "cyclic_test_graph.print_graph()\n",
    "print(cyclic_test_graph.is_cyclic())"
   ]
  },
  {
   "cell_type": "markdown",
   "metadata": {},
   "source": [
    "### [Find the Mother Vertex in a Graph](https://www.geeksforgeeks.org/find-a-mother-vertex-in-a-graph/)"
   ]
  },
  {
   "cell_type": "markdown",
   "metadata": {},
   "source": [
    "A Mother vertex is a vertex from which we can reach all other vertices of the graph via a path.\n",
    "There can be 3 possible cases:\n",
    "* In case of an undirected graph all vertices are mother vertices (only if there are no disjoint vertices in the graph).\n",
    "* In case of directed graphs if there are disjoint vertices then no mother vertex exists as well.\n",
    "* We are solving for the case where all the vertices are connected then get the mother vertices."
   ]
  },
  {
   "cell_type": "markdown",
   "metadata": {},
   "source": [
    "To Find the mother vertex the naive method would be to apply DFS on all the vertices and compare the length of the resulting visited set to the total no of vertices in the graph. This is very expensive.\n",
    "\n",
    "The more efficient way is an extension of 'Kosraju's Algorithm'. The objective behind this algorithm is to find all the Strongly connected components in the graph (A Strongly connected component is a component in the graph where there is a path to all vertices in the component from any given vertex (in the same component)).\n",
    "\n",
    "Checkout Tushar Roy's video on [\"Strongly connected component (Kosaraju Algo)\"](https://www.youtube.com/watch?v=RpgcYiky7uw)"
   ]
  },
  {
   "cell_type": "code",
   "execution_count": 23,
   "metadata": {},
   "outputs": [],
   "source": [
    "def mother_vertex(graph):\n",
    "    timing_stack = list()\n",
    "    visited = set()\n",
    "    if not graph:\n",
    "        return\n",
    "    def dfs_util(vertex, add_to_timing_stack=True):\n",
    "        if vertex in visited:\n",
    "            return\n",
    "        visited.add(vertex)\n",
    "        for neighbor in graph[vertex]:\n",
    "            dfs_util(neighbor, add_to_timing_stack)\n",
    "        if add_to_timing_stack:\n",
    "            timing_stack.append(vertex)\n",
    "    \n",
    "    for vertex in graph:\n",
    "        dfs_util(vertex)\n",
    "    \n",
    "    # Resetting visited and checking if the vertex taking the max amount of time \n",
    "    # is a mother vertex or not.\n",
    "    possible_mother_vertex = timing_stack.pop()\n",
    "    visited.clear()\n",
    "    dfs_util(possible_mother_vertex, add_to_timing_stack=False)\n",
    "    return possible_mother_vertex if len(graph) == len(visited) else None"
   ]
  },
  {
   "cell_type": "code",
   "execution_count": 27,
   "metadata": {},
   "outputs": [
    {
     "name": "stdout",
     "output_type": "stream",
     "text": [
      "TIMING STACK: ['e', 'f', 'd', 'c', 'b', 'a']\n",
      "VISITED POST SINGLE VERTEX CALL {'a', 'c', 'd', 'b', 'f', 'e'}\n"
     ]
    },
    {
     "data": {
      "text/plain": [
       "'a'"
      ]
     },
     "execution_count": 27,
     "metadata": {},
     "output_type": "execute_result"
    }
   ],
   "source": [
    "mother_vertex_test_graph = {\n",
    "    \"a\": set([\"b\", \"c\"]),\n",
    "    \"b\": set([\"f\"]),\n",
    "    \"c\": set([\"d\", \"f\"]),\n",
    "    \"d\": set([\"a\", \"e\"]),\n",
    "    \"e\": set([\"c\"]),\n",
    "    \"f\": set([\"e\"])\n",
    "}\n",
    "mother_vertex(mother_vertex_test_graph)"
   ]
  },
  {
   "cell_type": "markdown",
   "metadata": {},
   "source": [
    "### Find the number of edges in a graph"
   ]
  },
  {
   "cell_type": "markdown",
   "metadata": {},
   "source": [
    "It is really straightforward to find the number of edges in a graph. It can be done like so:\n",
    "* Directed graph: Just sum up the length of all neighbors for each vertex. The answer is already in the given graph adjaceny list.\n",
    "* [Undirected graph](https://www.geeksforgeeks.org/count-number-edges-undirected-graph/): Since we know that in undirected graph each edge is store twice (once in from vertex's adjaceny list, other in to vertex's adjaceny list) the answer is to divide the sum of all vertices we obtained like above."
   ]
  },
  {
   "cell_type": "markdown",
   "metadata": {},
   "source": [
    "### Check if a path exists between 2 vertices"
   ]
  },
  {
   "cell_type": "markdown",
   "metadata": {},
   "source": [
    "To check if a path exists between 2 vertex, just implement a BFS/DFS internally and if we are able to visit the destination node during our traversal we can say that a path exists between the 2 vertices."
   ]
  },
  {
   "cell_type": "code",
   "execution_count": 28,
   "metadata": {},
   "outputs": [],
   "source": [
    "def path_exists(graph, from_vertex, to_vertex):\n",
    "    visited = set()\n",
    "    stack = [from_vertex]\n",
    "    while stack:\n",
    "        ele = stack.pop()\n",
    "        for neighbor in graph[ele]:\n",
    "            if neighbor == to_vertex:\n",
    "                return True\n",
    "            if neighbor not in visited:\n",
    "                visited.add(neighbor)\n",
    "                stack.append(neighbor)\n",
    "    return False"
   ]
  },
  {
   "cell_type": "code",
   "execution_count": 33,
   "metadata": {},
   "outputs": [
    {
     "data": {
      "text/plain": [
       "False"
      ]
     },
     "execution_count": 33,
     "metadata": {},
     "output_type": "execute_result"
    }
   ],
   "source": [
    "path_exists_test_graph = {\n",
    "    \"a\": set([\"b\", \"c\"]),\n",
    "    \"b\": set([\"f\"]),\n",
    "    \"c\": set([\"d\", \"f\"]),\n",
    "    \"d\": set([\"a\", \"e\"]),\n",
    "    \"e\": set([\"c\", \"g\"]),\n",
    "    \"f\": set([\"e\"]),\n",
    "    \"g\": set([\"h\"]),\n",
    "    \"h\": set([\"g\"])\n",
    "}\n",
    "path_exists(path_exists_test_graph, 'h', 'a')"
   ]
  },
  {
   "cell_type": "markdown",
   "metadata": {},
   "source": [
    "### [Find the shortest path between 2 vertices](https://www.hackerearth.com/practice/algorithms/graphs/shortest-path-algorithms/tutorial/)"
   ]
  },
  {
   "cell_type": "markdown",
   "metadata": {},
   "source": [
    "There are multiple possible ways to find the shortest path between 2 vertices. A simple BFS would suffice if we were working with unweighted graphs or if the weight of all edges were the same. A BFS would work only if:\n",
    "* There are no loops\n",
    "* All edges have same weight or no weight."
   ]
  },
  {
   "cell_type": "markdown",
   "metadata": {},
   "source": [
    "#### [Bellman Ford Algorithm](https://www.youtube.com/watch?v=FtN3BYH2Zes)"
   ]
  },
  {
   "cell_type": "markdown",
   "metadata": {},
   "source": [
    "Bellman Ford algorithm is an algorithm that can be used to find the least weighted graph between 2 vertices. It's complexity is more than that of Djikstra's but it works with 'negative weights' whereas Djikstra's fails here. Check out the awesome video in the header for more info.\n",
    "Advantages:\n",
    "* Works with negative weights.\n",
    "Disadvantages:\n",
    "* Doesn't work if the graph has a negative weighted cycle."
   ]
  },
  {
   "cell_type": "markdown",
   "metadata": {},
   "source": [
    "#### Dijkstra's Algorithm"
   ]
  },
  {
   "cell_type": "code",
   "execution_count": 38,
   "metadata": {},
   "outputs": [],
   "source": [
    "from math import inf\n",
    "def get_distance_dict(graph, from_vertex, to_vertex):\n",
    "    distances = dict()\n",
    "    for vertex in graph:\n",
    "        if vertex == from_vertex:\n",
    "            distances[vertex] = 0\n",
    "        else:\n",
    "            distances[vertex] = float('inf')\n",
    "    return distances"
   ]
  },
  {
   "cell_type": "code",
   "execution_count": 44,
   "metadata": {},
   "outputs": [],
   "source": [
    "def find_shortest_path_djikstras(graph, from_vertex, to_vertex):\n",
    "    distance_dict = get_distance_dict(graph, from_vertex, to_vertex)\n",
    "    predecessor = dict()\n",
    "    unseen_nodes = set(graph.keys())\n",
    "    updated_distances = True\n",
    "    while unseen_nodes:\n",
    "        min_node, weight = None, 0\n",
    "        for key, value in distance_dict.items():\n",
    "            if key in unseen_nodes:\n",
    "                if not min_node:\n",
    "                    min_node, weight = key, value\n",
    "                elif distance_dict[min_node] > distance_dict[key]:\n",
    "                    min_node, weight = key, value\n",
    "    \n",
    "        for key, value in graph[min_node].items():\n",
    "            if (value + distance_dict[min_node]) < distance_dict[key]:\n",
    "                distance_dict[key] = value + distance_dict[min_node]\n",
    "                predecessor[key] = min_node\n",
    "        unseen_nodes.remove(min_node)\n",
    "    output = \"\"\n",
    "    if not predecessor[to_vertex]:\n",
    "        return output, distance_dict\n",
    "    else:\n",
    "        key = to_vertex\n",
    "        while predecessor[key] != 'a':\n",
    "            val = predecessor[key]\n",
    "            output += val\n",
    "            key = val\n",
    "    return output, distance_dict"
   ]
  },
  {
   "cell_type": "code",
   "execution_count": 45,
   "metadata": {},
   "outputs": [
    {
     "data": {
      "text/plain": [
       "('c', {'a': 0, 'b': 7, 'c': 3, 'd': 9, 'e': 5})"
      ]
     },
     "execution_count": 45,
     "metadata": {},
     "output_type": "execute_result"
    }
   ],
   "source": [
    "directed_graph = {\n",
    "    'a':{'b':10,'c':3},\n",
    "    'b':{'c':1,'d':2},\n",
    "    'c':{'b':4,'d':8,'e':2},\n",
    "    'd':{'e':7},\n",
    "    'e':{'d':9}\n",
    "}\n",
    "find_shortest_path_djikstras(directed_graph, 'a', 'e')"
   ]
  },
  {
   "cell_type": "markdown",
   "metadata": {},
   "source": [
    "#### TODO:\n",
    "* Johnson's Algoritm (get all simple cycles in a graph).\n",
    "* [Shortest path algorithms (Bellman ford, Djikstra...](https://www.hackerearth.com/practice/algorithms/graphs/shortest-path-algorithms/tutorial/)\n",
    "* Union Find Algorithm (Path compression and union by rank)."
   ]
  }
 ],
 "metadata": {
  "kernelspec": {
   "display_name": "Python 3",
   "language": "python",
   "name": "python3"
  },
  "language_info": {
   "codemirror_mode": {
    "name": "ipython",
    "version": 3
   },
   "file_extension": ".py",
   "mimetype": "text/x-python",
   "name": "python",
   "nbconvert_exporter": "python",
   "pygments_lexer": "ipython3",
   "version": "3.6.8"
  },
  "toc": {
   "base_numbering": 1,
   "nav_menu": {},
   "number_sections": true,
   "sideBar": true,
   "skip_h1_title": false,
   "title_cell": "Table of Contents",
   "title_sidebar": "Contents",
   "toc_cell": false,
   "toc_position": {},
   "toc_section_display": true,
   "toc_window_display": false
  }
 },
 "nbformat": 4,
 "nbformat_minor": 2
}
