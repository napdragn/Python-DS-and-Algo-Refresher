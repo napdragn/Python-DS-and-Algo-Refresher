{
 "cells": [
  {
   "cell_type": "markdown",
   "metadata": {},
   "source": [
    "# Stack and Queue Implementation in Python"
   ]
  },
  {
   "cell_type": "markdown",
   "metadata": {},
   "source": [
    "To use prebuilt Stack implementations in python use LifoQueue, or use `dequeue` from the collections module. If using `dequeue` then work only with `append` and `pop` methods. More on the implementation [here](https://realpython.com/how-to-implement-python-stack/)\n",
    "```\n",
    ">>> from queue import LifoQueue\n",
    ">>> myStack = LifoQueue()\n",
    "\n",
    ">>> myStack.put('a')\n",
    ">>> myStack.put('b')\n",
    ">>> myStack.put('c')\n",
    "\n",
    ">>> myStack\n",
    "<queue.LifoQueue object at 0x7f408885e2b0>\n",
    "\n",
    ">>> myStack.get()\n",
    "'c'\n",
    ">>> myStack.get()\n",
    "'b'\n",
    ">>> myStack.get()\n",
    "'a'\n",
    "\n",
    ">>> # myStack.get() <--- waits forever\n",
    ">>> myStack.get_nowait()\n",
    "Traceback (most recent call last):\n",
    "  File \"<console>\", line 1, in <module>\n",
    "  File \"/usr/lib/python3.7/queue.py\", line 198, in get_nowait\n",
    "    return self.get(block=False)\n",
    "  File \"/usr/lib/python3.7/queue.py\", line 167, in get\n",
    "    raise Empty\n",
    "_queue.Empty\n",
    "```"
   ]
  },
  {
   "cell_type": "code",
   "execution_count": 21,
   "metadata": {},
   "outputs": [],
   "source": [
    "class Node:\n",
    "    def __init__(self, data):\n",
    "        self.data = data\n",
    "        self.next = None\n",
    "    \n",
    "    def __str__(self):\n",
    "        return \"{}\".format(self.data)\n",
    "    \n",
    "    def get_data(self):\n",
    "        return self.data\n",
    "    \n",
    "    def set_data(self, data):\n",
    "        self.data = data\n",
    "        \n",
    "    def get_next(self):\n",
    "        return self.next\n",
    "    \n",
    "    def set_next(self, node):\n",
    "        self.next = node"
   ]
  },
  {
   "cell_type": "code",
   "execution_count": 22,
   "metadata": {},
   "outputs": [],
   "source": [
    "class Stack:\n",
    "    def __init__(self):\n",
    "        self.length = 0\n",
    "        self.top = None\n",
    "\n",
    "    def is_empty(self):\n",
    "        return True if self.length == 0 else False\n",
    "\n",
    "    def peek(self):\n",
    "        if self.is_empty():\n",
    "            return \"Error, empty stack!!\"\n",
    "        return self.top.get_data()\n",
    "    \n",
    "    def pop(self):\n",
    "        if self.is_empty():\n",
    "            return \"Error, empty stack!!\"\n",
    "        popped_element = self.top\n",
    "        self.top = popped_element.get_next()\n",
    "        self.length -= 1\n",
    "        return popped_element\n",
    "    \n",
    "    def bulk_put(self, li):\n",
    "        for val in li:\n",
    "            self.put(val)\n",
    "        return self.top\n",
    "    \n",
    "    def put(self, data):\n",
    "        ele = Node(data) if not isinstance(data, Node) else data\n",
    "        ele.set_next(self.top)\n",
    "        self.top = ele\n",
    "        self.length += 1\n",
    "        return self.top\n",
    "    "
   ]
  },
  {
   "cell_type": "code",
   "execution_count": 23,
   "metadata": {},
   "outputs": [
    {
     "name": "stdout",
     "output_type": "stream",
     "text": [
      "Current Top element: 2\n",
      "Popped element: 2\n",
      "3\n",
      "1\n",
      "2.1\n",
      "3\n",
      "Error, empty stack!!\n"
     ]
    }
   ],
   "source": [
    "s = Stack()\n",
    "s.put(3)\n",
    "s.put(2)\n",
    "print(\"Current Top element: {}\".format(s.peek()))\n",
    "print(\"Popped element: {}\".format(s.pop()))\n",
    "s.put(2.1)\n",
    "s.put(1)\n",
    "print(s.length)\n",
    "print(s.pop())\n",
    "print(s.pop())\n",
    "print(s.pop())\n",
    "print(s.pop())"
   ]
  },
  {
   "cell_type": "code",
   "execution_count": 24,
   "metadata": {},
   "outputs": [],
   "source": [
    "class DoubleNode(Node):\n",
    "    def __init__(self, data):\n",
    "        super().__init__(data)\n",
    "        self.prev = None\n",
    "    \n",
    "    def get_prev(self):\n",
    "        return self.prev\n",
    "    \n",
    "    def set_prev(self, val):\n",
    "        if not isinstance(val, DoubleNode):\n",
    "            val = DoubleNode(val)\n",
    "        self.prev = val"
   ]
  },
  {
   "cell_type": "code",
   "execution_count": 25,
   "metadata": {},
   "outputs": [],
   "source": [
    "class Queue(object):\n",
    "    def __init__(self):\n",
    "        self.front = self.back = None\n",
    "        self.length = 0\n",
    "    \n",
    "    def __str__(self):\n",
    "        if self.is_empty():\n",
    "            return \"Queue is Empty!\"\n",
    "        temp_front = self.front\n",
    "        ret_str = \"\"\n",
    "        while temp_front:\n",
    "            ret_str += \"{} -> \".format(temp_front.get_data())\n",
    "            temp_front = temp_front.get_next()\n",
    "        return ret_str[:-4]\n",
    "    \n",
    "    def is_empty(self):\n",
    "        return True if self.length == 0 else False\n",
    "\n",
    "    def insert(self, data):\n",
    "        if not isinstance(data, DoubleNode):\n",
    "            data = DoubleNode(data)\n",
    "        if self.length == 0:\n",
    "            self.front = self.back = data\n",
    "        else:\n",
    "            data.set_next(self.front)\n",
    "            self.front.set_prev(data)\n",
    "            self.front = data\n",
    "        self.length += 1\n",
    "        return self.front\n",
    "    \n",
    "    def bulk_insert(self, li_data):\n",
    "        for data in li_data:\n",
    "            if not isinstance(data, DoubleNode):\n",
    "                data = DoubleNode(data)\n",
    "            if self.length == 0:\n",
    "                self.front = self.back = data\n",
    "            else:\n",
    "                data.set_next(self.front)\n",
    "                self.front.set_prev(data)\n",
    "                self.front = data\n",
    "            self.length += 1\n",
    "        return self.front\n",
    "    \n",
    "    def remove(self):\n",
    "        if self.is_empty():\n",
    "            raise IndexError(\"Queue Empty\")\n",
    "        ret_node = self.back\n",
    "        if self.length == 1:\n",
    "            self.front = self.back = None\n",
    "        else:\n",
    "            prev_of_back = self.back.get_prev()\n",
    "            prev_of_back.set_next(None)\n",
    "            self.back.set_prev(None)\n",
    "            self.back = prev_of_back\n",
    "        self.length -= 1\n",
    "        return ret_node"
   ]
  },
  {
   "cell_type": "code",
   "execution_count": 26,
   "metadata": {},
   "outputs": [
    {
     "name": "stdout",
     "output_type": "stream",
     "text": [
      "a\n",
      "b -> a\n",
      "c -> b -> a\n",
      "removed element is a\n",
      "c -> b\n",
      "d -> c -> b\n"
     ]
    }
   ],
   "source": [
    "q = Queue()\n",
    "q.insert('a')\n",
    "print(q)\n",
    "q.insert('b')\n",
    "print(q)\n",
    "q.insert('c')\n",
    "print(q)\n",
    "print(f\"removed element is {q.remove()}\")\n",
    "print(q)\n",
    "q.insert('d')\n",
    "print(q)\n"
   ]
  },
  {
   "cell_type": "markdown",
   "metadata": {},
   "source": [
    "## [Generate Binary numbers from 1 to n using Queue](https://www.geeksforgeeks.org/interesting-method-generate-binary-numbers-1-n/)"
   ]
  },
  {
   "cell_type": "code",
   "execution_count": 27,
   "metadata": {},
   "outputs": [],
   "source": [
    "def generate_binary_number_from_queue(n):\n",
    "    q = Queue()\n",
    "    q.insert(\"1\")\n",
    "    while n > 0:\n",
    "        temp = q.remove()\n",
    "        print(temp)\n",
    "        q.insert(str(temp) + \"0\")\n",
    "        q.insert(str(temp) + \"1\")\n",
    "        n -= 1"
   ]
  },
  {
   "cell_type": "code",
   "execution_count": 28,
   "metadata": {},
   "outputs": [
    {
     "name": "stdout",
     "output_type": "stream",
     "text": [
      "1\n",
      "10\n",
      "11\n",
      "100\n",
      "101\n"
     ]
    }
   ],
   "source": [
    "generate_binary_number_from_queue(5)"
   ]
  },
  {
   "cell_type": "markdown",
   "metadata": {},
   "source": [
    "## [Implement 2 stacks using one array](https://www.geeksforgeeks.org/implement-two-stacks-in-an-array/)"
   ]
  },
  {
   "cell_type": "code",
   "execution_count": 29,
   "metadata": {},
   "outputs": [],
   "source": [
    "class TwoStacks:\n",
    "    def __init__(self, size):\n",
    "        self.size = size\n",
    "        self.stack = [None] * size\n",
    "        self.top1, self.top2 = -1, size\n",
    "    \n",
    "    def __str__(self):\n",
    "        return str(self.stack)\n",
    "    \n",
    "    def push_stack_1(self, val):\n",
    "        if self.top1 < self.top2 - 1:\n",
    "            self.stack[self.top1 + 1] = val\n",
    "            self.top1 += 1\n",
    "        else:\n",
    "            raise OverflowError(\"Stack1 Overflow!!\")\n",
    "    \n",
    "    def push_stack_2(self, val):\n",
    "        if self.top2 > self.top1 + 1:\n",
    "            self.stack[self.top2 - 1] = val\n",
    "            self.top2 -= 1\n",
    "        else:\n",
    "            raise OverflowError(\"Stack1 Overflow!!\")\n",
    "    \n",
    "    def pop_stack_1(self):\n",
    "        if self.top1 >= -1:\n",
    "            ret_val = self.stack[self.top1]\n",
    "            self.stack[self.top1] = None\n",
    "            self.top1 -= 1\n",
    "            return ret_val\n",
    "        else:\n",
    "            raise IndexError(\"Pop from empty queue!!\")\n",
    "    \n",
    "    def pop_stack_2(self):\n",
    "        if self.top2 == self.size - 1:\n",
    "            ret_val = self.stack[self.top2]\n",
    "            self.stack[self.top2] = None\n",
    "            self.top1 += 1\n",
    "            return ret_val\n",
    "        else:\n",
    "            raise IndexError(\"Pop from empty queue!!\")"
   ]
  },
  {
   "cell_type": "code",
   "execution_count": 30,
   "metadata": {},
   "outputs": [
    {
     "name": "stdout",
     "output_type": "stream",
     "text": [
      "[0, None, None, None, None, None, None, 7]\n"
     ]
    }
   ],
   "source": [
    "ts = TwoStacks(8)\n",
    "ts.push_stack_1(0)\n",
    "ts.push_stack_2(7)\n",
    "print(ts)"
   ]
  },
  {
   "cell_type": "markdown",
   "metadata": {},
   "source": [
    "## [Reverse First K elements of a Queue](https://www.geeksforgeeks.org/reversing-first-k-elements-queue/)"
   ]
  },
  {
   "cell_type": "markdown",
   "metadata": {},
   "source": [
    "Write a program to reverse just the first k elements of a queue.\n",
    "* Sample Input: `[10, 20, 30, 40, 50, 60, 70, 80, 90, 100]`\n",
    "* Sample Output: `[50, 40, 30, 20, 10, 60, 70, 80, 90, 100]`"
   ]
  },
  {
   "cell_type": "code",
   "execution_count": 31,
   "metadata": {},
   "outputs": [],
   "source": [
    "def reverse_first_k_elements(input_q, k):\n",
    "    if k > input_q.length:\n",
    "        return \"Unable to reverse Queue, index to reverse greater than the input queue length.\"\n",
    "    output_q = Queue()\n",
    "    not_to_reverse_num = input_q.length - k\n",
    "    while not_to_reverse_num > 0:\n",
    "        output_q.insert(input_q.remove())\n",
    "        not_to_reverse_num -= 1\n",
    "    stack = list()\n",
    "    while not input_q.is_empty():\n",
    "        stack.append(input_q.remove())\n",
    "    while stack:\n",
    "        output_q.insert(stack.pop())\n",
    "    return output_q"
   ]
  },
  {
   "cell_type": "code",
   "execution_count": 32,
   "metadata": {},
   "outputs": [
    {
     "name": "stdout",
     "output_type": "stream",
     "text": [
      "Before Reverse: 10 -> 20 -> 30 -> 40 -> 50 -> 60 -> 70 -> 80 -> 90 -> 100\n",
      "After Reverse: 50 -> 40 -> 30 -> 20 -> 10 -> 60 -> 70 -> 80 -> 90 -> 100\n"
     ]
    }
   ],
   "source": [
    "reverse_k_ele_input_q = Queue()\n",
    "reverse_k_ele_input_q.bulk_insert([100, 90, 80, 70, 60, 50, 40, 30, 20, 10])\n",
    "print(f\"Before Reverse: {reverse_k_ele_input_q}\")\n",
    "reverse_k_ele_output_q = reverse_first_k_elements(reverse_k_ele_input_q, 5)\n",
    "print(f\"After Reverse: {reverse_k_ele_output_q}\")"
   ]
  },
  {
   "cell_type": "markdown",
   "metadata": {},
   "source": [
    "## [Implement a Queue using Stacks](https://www.geeksforgeeks.org/queue-using-stacks/)"
   ]
  },
  {
   "cell_type": "code",
   "execution_count": 33,
   "metadata": {},
   "outputs": [],
   "source": [
    "class QueueFromStacks:\n",
    "    def __init__(self):\n",
    "        self.s1, self.s2 = list(), list()\n",
    "    \n",
    "    def is_empty(self):\n",
    "        return True if (len(self.s1) + len(self.s2)) == 0 else False\n",
    "    \n",
    "    def enqueue(self, val):\n",
    "        self.s1.append(val)\n",
    "    \n",
    "    def dequeue(self):\n",
    "        if not self.s1 and not self.s2:\n",
    "            return \"Queue empty\"\n",
    "        if not self.s2:\n",
    "            while self.s1:\n",
    "                self.s2.append(self.s1.pop())\n",
    "        return self.s2.pop()"
   ]
  },
  {
   "cell_type": "code",
   "execution_count": 34,
   "metadata": {},
   "outputs": [
    {
     "name": "stdout",
     "output_type": "stream",
     "text": [
      "1 2 3 4 5 6 \n"
     ]
    }
   ],
   "source": [
    "q_from_s = QueueFromStacks()\n",
    "q_from_s.enqueue(1)\n",
    "q_from_s.enqueue(2)\n",
    "q_from_s.enqueue(3)\n",
    "q_from_s.enqueue(4)\n",
    "q_from_s.enqueue(5)\n",
    "q_from_s.enqueue(6)\n",
    "deq = \"\"\n",
    "while not q_from_s.is_empty():\n",
    "    deq += (str(q_from_s.dequeue()) + \" \")\n",
    "print(deq)"
   ]
  },
  {
   "cell_type": "markdown",
   "metadata": {},
   "source": [
    "## Sort values in a Stack"
   ]
  },
  {
   "cell_type": "markdown",
   "metadata": {},
   "source": [
    "### [Sorting the values using additional stack](https://www.geeksforgeeks.org/sort-stack-using-temporary-stack/)"
   ]
  },
  {
   "cell_type": "markdown",
   "metadata": {},
   "source": [
    "We can also modify the below mentioned method where instead of using a temp_s we can instead use the input_s itself to funciton as temp_s. Currently using temp_s to preserve sanity."
   ]
  },
  {
   "cell_type": "code",
   "execution_count": 35,
   "metadata": {},
   "outputs": [],
   "source": [
    "def sort_values_in_stack_using_stack(input_s):\n",
    "    output_s, temp_s = list(), list()\n",
    "    while input_s:\n",
    "        popped_ele = input_s.pop()\n",
    "        if not output_s:\n",
    "            output_s.append(popped_ele)\n",
    "        else:\n",
    "            if popped_ele <= output_s[-1]:\n",
    "                output_s.append(popped_ele)\n",
    "            else:\n",
    "                while output_s and output_s[-1] < popped_ele:\n",
    "                    temp_s.append(output_s.pop())\n",
    "                output_s.append(popped_ele)\n",
    "                while temp_s:\n",
    "                    output_s.append(temp_s.pop())\n",
    "    return output_s"
   ]
  },
  {
   "cell_type": "code",
   "execution_count": 36,
   "metadata": {},
   "outputs": [
    {
     "name": "stdout",
     "output_type": "stream",
     "text": [
      "[7, 6, 5, 4, 3, 2, 1]\n"
     ]
    }
   ],
   "source": [
    "print(sort_values_in_stack_using_stack([6, 7, 3, 4, 1, 5, 2]))"
   ]
  },
  {
   "cell_type": "markdown",
   "metadata": {},
   "source": [
    "### [Sort values in a stack using recursion](https://www.geeksforgeeks.org/sort-a-stack-using-recursion/)"
   ]
  },
  {
   "cell_type": "markdown",
   "metadata": {},
   "source": [
    "We will use multiple recursions to sort the stack. This quesion can also be asked as, \"Sort a Stack/List without using any other data structures or while loop\". If in doubt look at [this](https://www.youtube.com/watch?v=nll-b4GeiX4) youtube video."
   ]
  },
  {
   "cell_type": "code",
   "execution_count": 37,
   "metadata": {},
   "outputs": [],
   "source": [
    "def sort_with_recursion(s_in):\n",
    "    if not s_in: return s_in\n",
    "    temp = s_in.pop()\n",
    "    sort_with_recursion(s_in)\n",
    "    sorted_insert(temp, s_in)"
   ]
  },
  {
   "cell_type": "code",
   "execution_count": 38,
   "metadata": {},
   "outputs": [],
   "source": [
    "def sorted_insert(val, s_in):\n",
    "    if not s_in:\n",
    "        s_in.append(val)\n",
    "    else:\n",
    "        if val > s_in[-1]:\n",
    "            temp = s_in.pop()\n",
    "            sorted_insert(val, s_in)\n",
    "            s_in.append(temp)\n",
    "        else:\n",
    "            s_in.append(val)"
   ]
  },
  {
   "cell_type": "code",
   "execution_count": 39,
   "metadata": {},
   "outputs": [],
   "source": [
    "s_in = [6, 2, 4, 5, 1, -8, 24]"
   ]
  },
  {
   "cell_type": "code",
   "execution_count": 40,
   "metadata": {},
   "outputs": [],
   "source": [
    "sort_with_recursion(s_in)"
   ]
  },
  {
   "cell_type": "code",
   "execution_count": 41,
   "metadata": {},
   "outputs": [
    {
     "name": "stdout",
     "output_type": "stream",
     "text": [
      "[24, 6, 5, 4, 2, 1, -8]\n"
     ]
    }
   ],
   "source": [
    "print(s_in)"
   ]
  },
  {
   "cell_type": "markdown",
   "metadata": {},
   "source": [
    "### [Reverse values in a Stack using Recursion](https://www.geeksforgeeks.org/reverse-a-stack-using-recursion/)"
   ]
  },
  {
   "cell_type": "markdown",
   "metadata": {},
   "source": [
    "Similar to how we sorted the stack above. We will use multiple recursions. Check [this](https://www.youtube.com/watch?v=dQsZP8UvHVk) video in case of confusion."
   ]
  },
  {
   "cell_type": "code",
   "execution_count": 42,
   "metadata": {},
   "outputs": [],
   "source": [
    "def reverse_with_recursion(s_in):\n",
    "    if not s_in: return s_in\n",
    "    temp = s_in.pop()\n",
    "    reverse_with_recursion(s_in)\n",
    "    insert_at_bottom(temp, s_in)"
   ]
  },
  {
   "cell_type": "code",
   "execution_count": 43,
   "metadata": {},
   "outputs": [],
   "source": [
    "def insert_at_bottom(val, s_in):\n",
    "    if not s_in:\n",
    "        s_in.append(val)\n",
    "    else:\n",
    "        temp = s_in.pop()\n",
    "        insert_at_bottom(val, s_in)\n",
    "        s_in.append(temp)"
   ]
  },
  {
   "cell_type": "code",
   "execution_count": 44,
   "metadata": {},
   "outputs": [
    {
     "name": "stdout",
     "output_type": "stream",
     "text": [
      "[-8, 1, 2, 4, 5, 6, 24]\n"
     ]
    }
   ],
   "source": [
    "reverse_with_recursion(s_in)\n",
    "print(s_in)"
   ]
  },
  {
   "cell_type": "markdown",
   "metadata": {},
   "source": [
    "## Infix, Prefix & Postfix Expression"
   ]
  },
  {
   "cell_type": "markdown",
   "metadata": {},
   "source": [
    "### Convert Infix to Postfix expression"
   ]
  },
  {
   "cell_type": "code",
   "execution_count": 50,
   "metadata": {},
   "outputs": [],
   "source": [
    "def convert_infix_to_postfix(exp):\n",
    "    output_list, operand_stack = list(), list()\n",
    "    operator_precedence = {\n",
    "        '/': 3,\n",
    "        '*': 3,\n",
    "        '+': 2,\n",
    "        '-': 2,\n",
    "        '(': 1\n",
    "    }\n",
    "    exp = exp.split()\n",
    "    for token in exp:\n",
    "        if token in \"ABCDEFGHIJKLMNOPQRSTUVWXYZ0123456789\":\n",
    "            output_list.append(token)\n",
    "        elif token == '(':\n",
    "            operand_stack.append(token)\n",
    "        elif token == ')':\n",
    "            while operand_stack[-1] != '(':\n",
    "                output_list.append(operand_stack.pop())\n",
    "            # Removing '(' after popping\n",
    "            operand_stack.pop()\n",
    "        else:\n",
    "            while operand_stack and operator_precedence[token] <= operator_precedence[operand_stack[-1]]:\n",
    "                output_list.append(operand_stack.pop())\n",
    "            operand_stack.append(token)\n",
    "    while operand_stack: output_list.append(operand_stack.pop())\n",
    "    return \" \".join(output_list)"
   ]
  },
  {
   "cell_type": "code",
   "execution_count": 51,
   "metadata": {},
   "outputs": [
    {
     "data": {
      "text/plain": [
       "'A B + C D + *'"
      ]
     },
     "execution_count": 51,
     "metadata": {},
     "output_type": "execute_result"
    }
   ],
   "source": [
    "convert_infix_to_postfix(\"( A + B ) * ( C + D )\")"
   ]
  },
  {
   "cell_type": "markdown",
   "metadata": {},
   "source": [
    "### Convert Infix to Prefix expression"
   ]
  },
  {
   "cell_type": "markdown",
   "metadata": {},
   "source": [
    "To convert an Infix expression to a prefix expression, reverse the given infix expression, convert it to a postfix expression using the above program and then reverse it back to obtain the infix expression."
   ]
  },
  {
   "cell_type": "code",
   "execution_count": 52,
   "metadata": {},
   "outputs": [],
   "source": [
    "def convert_infix_to_prefix(exp):\n",
    "    rev_exp = (exp.split())[::-1]\n",
    "    for i in range(len(rev_exp)):\n",
    "        if rev_exp[i] == \"(\": \n",
    "            rev_exp[i] = \")\"\n",
    "        elif rev_exp[i] == \")\": \n",
    "            rev_exp[i] = \"(\"\n",
    "    return (convert_infix_to_postfix(\" \".join(rev_exp)))[::-1]"
   ]
  },
  {
   "cell_type": "code",
   "execution_count": 53,
   "metadata": {},
   "outputs": [
    {
     "data": {
      "text/plain": [
       "'* + A B + C D'"
      ]
     },
     "execution_count": 53,
     "metadata": {},
     "output_type": "execute_result"
    }
   ],
   "source": [
    "convert_infix_to_prefix(\"( A + B ) * ( C + D )\")"
   ]
  },
  {
   "cell_type": "markdown",
   "metadata": {},
   "source": [
    "### Postfix Evaluation"
   ]
  },
  {
   "cell_type": "markdown",
   "metadata": {},
   "source": [
    "Remember that the order of poping matters for division or subtraction `(op1/op2 != op2/op1)`. "
   ]
  },
  {
   "cell_type": "code",
   "execution_count": 75,
   "metadata": {},
   "outputs": [],
   "source": [
    "def perform_operation(operator, operand_1, operand_2):\n",
    "    if operator == \"+\":\n",
    "        return (operand_1 + operand_2)\n",
    "    elif operator == \"-\":\n",
    "        return (operand_1 - operand_2)\n",
    "    elif operator == \"*\":\n",
    "        return (operand_1 * operand_2)\n",
    "    elif operator == \"/\":\n",
    "        return (operand_1 // operand_2)"
   ]
  },
  {
   "cell_type": "code",
   "execution_count": 76,
   "metadata": {},
   "outputs": [],
   "source": [
    "def evaluate_postfix_evaluation(exp):\n",
    "    token_stack, exp_list = list(), list()\n",
    "    exp_list = list(exp)\n",
    "    \n",
    "    for token in exp_list:\n",
    "        if token in \"0123456789\":\n",
    "            token_stack.append(token)\n",
    "        else:\n",
    "            # When the token is an operand\n",
    "            operand_2, operand_1 = int(token_stack.pop()), int(token_stack.pop())\n",
    "            token_stack.append(\n",
    "                perform_operation(token, operand_1, operand_2)\n",
    "            )\n",
    "    return token_stack[-1]"
   ]
  },
  {
   "cell_type": "code",
   "execution_count": 77,
   "metadata": {},
   "outputs": [
    {
     "data": {
      "text/plain": [
       "3"
      ]
     },
     "execution_count": 77,
     "metadata": {},
     "output_type": "execute_result"
    }
   ],
   "source": [
    "evaluate_postfix_evaluation(\"78+32+/\")"
   ]
  },
  {
   "cell_type": "markdown",
   "metadata": {},
   "source": [
    "### Evaluate Prefix expression"
   ]
  },
  {
   "cell_type": "markdown",
   "metadata": {},
   "source": [
    "To evaluate a prefix expression is almost exactly the same as that of postfix expression. But here we read the expression from the end insted of from the beginning."
   ]
  },
  {
   "cell_type": "code",
   "execution_count": 85,
   "metadata": {},
   "outputs": [],
   "source": [
    "def evaluate_prefix_evaluation(exp):\n",
    "    operand_stack = list()\n",
    "    exp_list = list(exp)\n",
    "    for token in reversed(exp_list):\n",
    "        if token in \"0123456789\":\n",
    "            operand_stack.append(int(token))\n",
    "        else:\n",
    "            # Since popping from reverse the pop order isn't changed\n",
    "            operand_1, operand_2 = operand_stack.pop(), operand_stack.pop()\n",
    "            operand_stack.append(\n",
    "                perform_operation(token, operand_1, operand_2)\n",
    "            )\n",
    "    return operand_stack[-1]"
   ]
  },
  {
   "cell_type": "code",
   "execution_count": 86,
   "metadata": {},
   "outputs": [
    {
     "name": "stdout",
     "output_type": "stream",
     "text": [
      "25\n",
      "8\n"
     ]
    }
   ],
   "source": [
    "print(evaluate_prefix_evaluation(\"-+7*45+20\"))\n",
    "print(evaluate_prefix_evaluation(\"-+8/632\"))"
   ]
  },
  {
   "cell_type": "markdown",
   "metadata": {},
   "source": [
    "## Next Greater element using Stack"
   ]
  },
  {
   "cell_type": "markdown",
   "metadata": {},
   "source": [
    "Implementing kth greatest element using Stack and passing in 2."
   ]
  },
  {
   "cell_type": "code",
   "execution_count": 109,
   "metadata": {},
   "outputs": [],
   "source": [
    "def next_greater_element(k, li):\n",
    "    li_len = len(li)\n",
    "    stack = list()\n",
    "    if k > li_len:\n",
    "        return \"Invalid K given, greater than length of list.\"\n",
    "    for ele in li:\n",
    "        temp_stack = list()\n",
    "        while stack and stack[-1] <= ele:\n",
    "            temp_stack.append(stack.pop())\n",
    "        if len(stack) < k: stack.append(ele)\n",
    "        while len(stack) < k and temp_stack:\n",
    "            stack.append(temp_stack.pop())\n",
    "    return stack[-1]"
   ]
  },
  {
   "cell_type": "code",
   "execution_count": 111,
   "metadata": {},
   "outputs": [
    {
     "data": {
      "text/plain": [
       "7"
      ]
     },
     "execution_count": 111,
     "metadata": {},
     "output_type": "execute_result"
    }
   ],
   "source": [
    "next_greater_element(2, [6,2,4,7,1,7,3])"
   ]
  },
  {
   "cell_type": "markdown",
   "metadata": {},
   "source": [
    "## Check balanced paranthesis using stack"
   ]
  },
  {
   "cell_type": "code",
   "execution_count": 116,
   "metadata": {},
   "outputs": [],
   "source": [
    "def check_balanced_paranthesis(s):\n",
    "    stack = list()\n",
    "    open_close_map = {\n",
    "        \"(\": \")\",\n",
    "        \"{\": \"}\",\n",
    "        \"[\": \"]\"\n",
    "    }\n",
    "    for char in s:\n",
    "        if char in open_close_map: \n",
    "            stack.append(char)\n",
    "        elif char in [\")\", \"}\", \"]\"]:\n",
    "            if not stack: \n",
    "                return False\n",
    "            elif open_close_map[stack[-1]] != char: \n",
    "                return False\n",
    "            else:\n",
    "                stack.pop()\n",
    "    return True if not stack else False"
   ]
  },
  {
   "cell_type": "code",
   "execution_count": 120,
   "metadata": {},
   "outputs": [
    {
     "name": "stdout",
     "output_type": "stream",
     "text": [
      "Is Balanced: True\n",
      "Is Balanced: False\n"
     ]
    }
   ],
   "source": [
    "print(\"Is Balanced: {}\".format(check_balanced_paranthesis(\"[()]{}{[()()]()}\")))\n",
    "print(\"Is Balanced: {}\".format(check_balanced_paranthesis(\"[(])\")))"
   ]
  }
 ],
 "metadata": {
  "kernelspec": {
   "display_name": "Python 3",
   "language": "python",
   "name": "python3"
  },
  "language_info": {
   "codemirror_mode": {
    "name": "ipython",
    "version": 3
   },
   "file_extension": ".py",
   "mimetype": "text/x-python",
   "name": "python",
   "nbconvert_exporter": "python",
   "pygments_lexer": "ipython3",
   "version": "3.6.8"
  },
  "toc": {
   "base_numbering": 1,
   "nav_menu": {},
   "number_sections": true,
   "sideBar": true,
   "skip_h1_title": false,
   "title_cell": "Table of Contents",
   "title_sidebar": "Contents",
   "toc_cell": false,
   "toc_position": {},
   "toc_section_display": true,
   "toc_window_display": false
  }
 },
 "nbformat": 4,
 "nbformat_minor": 2
}
