{
 "cells": [
  {
   "cell_type": "markdown",
   "metadata": {},
   "source": [
    "## Remove Even Integers from a List."
   ]
  },
  {
   "cell_type": "code",
   "execution_count": 52,
   "metadata": {},
   "outputs": [],
   "source": [
    "def remove_even(li):\n",
    "    for ind, val in enumerate(li):\n",
    "        if val % 2 == 0: del li[ind]\n",
    "    return li"
   ]
  },
  {
   "cell_type": "code",
   "execution_count": 53,
   "metadata": {},
   "outputs": [
    {
     "name": "stdout",
     "output_type": "stream",
     "text": [
      "[1, 3, 5]\n"
     ]
    }
   ],
   "source": [
    "print(remove_even([1,2,3,4,5,6]))"
   ]
  },
  {
   "cell_type": "markdown",
   "metadata": {},
   "source": [
    "## Merge Two Sorted Lists. "
   ]
  },
  {
   "cell_type": "code",
   "execution_count": 54,
   "metadata": {},
   "outputs": [],
   "source": [
    "# My shitty take on this solution\n",
    "def merge_sorted_lists(l1, l2):\n",
    "    l1_ind = l2_ind = 0\n",
    "    l1_len, l2_len = len(l1), len(l2)\n",
    "    if l1_len == 0:\n",
    "        return l2\n",
    "    elif l2_len == 0:\n",
    "        return l1\n",
    "    merged_li = list()\n",
    "    while True:\n",
    "        while l1_ind < l1_len and l2_ind < l2_len and l1[l1_ind] <= l2[l2_ind]:\n",
    "            merged_li.append(l1[l1_ind])\n",
    "            l1_ind += 1\n",
    "        while l1_ind < l1_len and l2_ind < l2_len and l2[l2_ind] <= l1[l1_ind]:\n",
    "            merged_li.append(l2[l2_ind])\n",
    "            l2_ind += 1\n",
    "        if l1_ind >= l1_len:\n",
    "            while l2_ind < l2_len: \n",
    "                merged_li.append(l2[l2_ind])\n",
    "                l2_ind += 1\n",
    "            break\n",
    "        elif l2_ind >= l2_len:\n",
    "            while l1_ind < l1_len:\n",
    "                merged_li.append(l1[l1_ind])\n",
    "                l1_ind += 1\n",
    "            break\n",
    "    return merged_li\n",
    "            "
   ]
  },
  {
   "cell_type": "code",
   "execution_count": 55,
   "metadata": {},
   "outputs": [
    {
     "name": "stdout",
     "output_type": "stream",
     "text": [
      "[1, 1, 1, 1, 2, 3, 3, 3, 5, 6, 7, 8]\n"
     ]
    }
   ],
   "source": [
    "print(merge_sorted_lists([1,1,1,2,3,3],[1,3,5,6,7,8]))"
   ]
  },
  {
   "cell_type": "markdown",
   "metadata": {},
   "source": [
    "The easier more, intuitive way copied from [GFG](https://www.geeksforgeeks.org/python-combining-two-sorted-lists/)"
   ]
  },
  {
   "cell_type": "code",
   "execution_count": 56,
   "metadata": {},
   "outputs": [
    {
     "name": "stdout",
     "output_type": "stream",
     "text": [
      "[1, 3, 4, 5, 6, 7, 8, 9, 10, 11]\n"
     ]
    }
   ],
   "source": [
    "# Naive Approach:\n",
    "test_list1 = [1, 5, 6, 9, 11] \n",
    "test_list2 = [3, 4, 7, 8, 10] \n",
    "\n",
    "# using naive method  \n",
    "# to combine two sorted lists \n",
    "size_1 = len(test_list1) \n",
    "size_2 = len(test_list2) \n",
    "  \n",
    "res = [] \n",
    "i, j = 0, 0\n",
    "  \n",
    "while i < size_1 and j < size_2: \n",
    "    if test_list1[i] < test_list2[j]: \n",
    "      res.append(test_list1[i]) \n",
    "      i += 1\n",
    "  \n",
    "    else: \n",
    "      res.append(test_list2[j]) \n",
    "      j += 1\n",
    "  \n",
    "res = res + test_list1[i:] + test_list2[j:]\n",
    "print(res)"
   ]
  },
  {
   "cell_type": "code",
   "execution_count": 57,
   "metadata": {},
   "outputs": [
    {
     "data": {
      "text/plain": [
       "[1, 3, 4, 5, 6, 7, 8, 9, 10, 11]"
      ]
     },
     "execution_count": 57,
     "metadata": {},
     "output_type": "execute_result"
    }
   ],
   "source": [
    "# One liner soln:\n",
    "sorted(test_list1 + test_list2) # Takes more time internally"
   ]
  },
  {
   "cell_type": "markdown",
   "metadata": {},
   "source": [
    "To make use of the sorted nature of both the arrays you can use _merge_ method from _heapq_ module"
   ]
  },
  {
   "cell_type": "code",
   "execution_count": 58,
   "metadata": {},
   "outputs": [
    {
     "name": "stdout",
     "output_type": "stream",
     "text": [
      "[1, 3, 4, 5, 6, 7, 8, 9, 10, 11]\n"
     ]
    }
   ],
   "source": [
    "from heapq import merge\n",
    "print(list(merge(test_list1, test_list2)))"
   ]
  },
  {
   "cell_type": "markdown",
   "metadata": {},
   "source": [
    "## Find 2 numbers that add upto n."
   ]
  },
  {
   "cell_type": "markdown",
   "metadata": {},
   "source": [
    "[GFG link](https://www.geeksforgeeks.org/given-an-array-a-and-a-number-x-check-for-pair-in-a-with-sum-as-x/) for ref to other methods like sorting and 2 pointers."
   ]
  },
  {
   "cell_type": "code",
   "execution_count": 59,
   "metadata": {},
   "outputs": [],
   "source": [
    "def add_upto_n(li, n):\n",
    "    visited = set()\n",
    "    for ele in li:\n",
    "        target = n - ele\n",
    "        if target in visited: return ele, target\n",
    "        else: visited.add(ele)\n",
    "    return 0,0"
   ]
  },
  {
   "cell_type": "code",
   "execution_count": 60,
   "metadata": {},
   "outputs": [
    {
     "name": "stdout",
     "output_type": "stream",
     "text": [
      "(4, 3)\n"
     ]
    }
   ],
   "source": [
    "print(add_upto_n([3,1,2,4,3], 7))"
   ]
  },
  {
   "cell_type": "markdown",
   "metadata": {},
   "source": [
    "## List of products of all elements."
   ]
  },
  {
   "cell_type": "code",
   "execution_count": 61,
   "metadata": {},
   "outputs": [],
   "source": [
    "def prod_of_ele(li):\n",
    "    if len(li) == 0:\n",
    "        return 0\n",
    "    elif len(li) == 1:\n",
    "        return li[0]\n",
    "    prod = 1\n",
    "    for ele in li:\n",
    "        prod *= ele\n",
    "    return prod"
   ]
  },
  {
   "cell_type": "code",
   "execution_count": 62,
   "metadata": {},
   "outputs": [
    {
     "name": "stdout",
     "output_type": "stream",
     "text": [
      "24\n"
     ]
    }
   ],
   "source": [
    "print(prod_of_ele([1,2,3,4]))"
   ]
  },
  {
   "cell_type": "markdown",
   "metadata": {},
   "source": [
    "## List of product of elements except itsef:"
   ]
  },
  {
   "cell_type": "markdown",
   "metadata": {},
   "source": [
    "There are multiple approaches to solve this question, some of which are ([GFG Link](https://www.geeksforgeeks.org/a-product-array-puzzle/)):\n",
    "* Get the product of all elements in the list initially and then create new list by dividing by the element present at that specific index.\n",
    "* Create 2 extra lists which contain right multiplication results and left multiplication results, it is illustrated below."
   ]
  },
  {
   "cell_type": "code",
   "execution_count": 63,
   "metadata": {},
   "outputs": [],
   "source": [
    "def prod_leaving_itself_2_li(li):\n",
    "    if len(li) == 1:\n",
    "        return li\n",
    "    elif len(li) == 2:\n",
    "        return reversed(li)\n",
    "    right_li, left_li, prod_li = list(), list(), list()\n",
    "    temp = 1\n",
    "    for ele in li:\n",
    "        temp *= ele\n",
    "        left_li.append(temp)\n",
    "    temp = 1\n",
    "    for ele in reversed(li):\n",
    "        temp *= ele\n",
    "        right_li.insert(0, temp)\n",
    "    for i in range(len(li)):\n",
    "        left_res = left_li[i - 1] if (i - 1) in range(len(li)) else 1\n",
    "        right_res = right_li[i + 1] if (i + 1) in range(len(li)) else 1\n",
    "        prod_li.append(left_res * right_res)\n",
    "    return prod_li"
   ]
  },
  {
   "cell_type": "code",
   "execution_count": 64,
   "metadata": {},
   "outputs": [
    {
     "name": "stdout",
     "output_type": "stream",
     "text": [
      "[0, 0, 24, 0, 0]\n"
     ]
    }
   ],
   "source": [
    "print(prod_leaving_itself_2_li([1,2, 0 ,3,4]))"
   ]
  },
  {
   "cell_type": "markdown",
   "metadata": {},
   "source": [
    "Shamelessly copied from GFG, a modification of above, Here instead of using addiitonal space to store 2 different arrays, that is left arr and right arr we use the product array that should be returned to store our left and right array.\n",
    "\n",
    "1. Initially the prod array contains left prod array (product of every number the exisits to it's left except itself.\n",
    "2. With the help of a temp from which we will get the right array we modify the prod array in the second iteration."
   ]
  },
  {
   "cell_type": "code",
   "execution_count": 65,
   "metadata": {},
   "outputs": [],
   "source": [
    "# Python3 program for A Product Array Puzzle \n",
    "def product_array_01_space_complexity(arr, n): \n",
    "  \n",
    "    i, temp = 1, 1\n",
    "  \n",
    "    # Allocate memory for the product array  \n",
    "    prod = [1 for i in range(n)] \n",
    "  \n",
    "    # Initialize the product array as 1  \n",
    "  \n",
    "    # In this loop, temp variable contains product of \n",
    "    # elements on left side excluding arr[i]  \n",
    "    for i in range(n): \n",
    "        prod[i] = temp \n",
    "        temp *= arr[i] \n",
    "    # Initialize temp to 1 for product on right side  \n",
    "    temp = 1\n",
    "  \n",
    "    # In this loop, temp variable contains product of \n",
    "    # elements on right side excluding arr[i]  \n",
    "    for i in range(n - 1, -1, -1): \n",
    "        prod[i] *= temp \n",
    "        temp *= arr[i] \n",
    "    return prod"
   ]
  },
  {
   "cell_type": "code",
   "execution_count": 66,
   "metadata": {},
   "outputs": [
    {
     "data": {
      "text/plain": [
       "[120, 60, 40, 30, 24]"
      ]
     },
     "execution_count": 66,
     "metadata": {},
     "output_type": "execute_result"
    }
   ],
   "source": [
    "product_array_01_space_complexity([1,2,3,4,5], 5)"
   ]
  },
  {
   "cell_type": "markdown",
   "metadata": {},
   "source": [
    "## Find Minimum value in a list"
   ]
  },
  {
   "cell_type": "code",
   "execution_count": 67,
   "metadata": {},
   "outputs": [],
   "source": [
    "def find_minimum(li):\n",
    "    if len(li) == 0:\n",
    "        return None\n",
    "    elif len(li) == 1:\n",
    "        return li[0]\n",
    "    min_ele = li[0]\n",
    "    for i in range(1, len(li)):\n",
    "        if li[i] < min_ele: min_ele = li[i]\n",
    "    return min_ele"
   ]
  },
  {
   "cell_type": "code",
   "execution_count": 68,
   "metadata": {},
   "outputs": [
    {
     "data": {
      "text/plain": [
       "2"
      ]
     },
     "execution_count": 68,
     "metadata": {},
     "output_type": "execute_result"
    }
   ],
   "source": [
    "find_minimum([5,3,7,22,74,5,3,2,2,77])"
   ]
  },
  {
   "cell_type": "markdown",
   "metadata": {},
   "source": [
    "The above result can also be achieved with the help of `min` function in python"
   ]
  },
  {
   "cell_type": "code",
   "execution_count": 69,
   "metadata": {},
   "outputs": [
    {
     "data": {
      "text/plain": [
       "2"
      ]
     },
     "execution_count": 69,
     "metadata": {},
     "output_type": "execute_result"
    }
   ],
   "source": [
    "min([5,3,7,22,74,5,3,2,2,77])"
   ]
  },
  {
   "cell_type": "markdown",
   "metadata": {},
   "source": [
    "## First non repeating integer in a list"
   ]
  },
  {
   "cell_type": "code",
   "execution_count": 73,
   "metadata": {},
   "outputs": [],
   "source": [
    "from collections import defaultdict\n",
    "def first_non_repeating_integer(li):\n",
    "    int_count = defaultdict(int)\n",
    "    for i in li:\n",
    "        int_count[i] += 1\n",
    "    for i in li:\n",
    "        if int_count[i] == 1:\n",
    "            return i\n",
    "    return None"
   ]
  },
  {
   "cell_type": "code",
   "execution_count": 75,
   "metadata": {},
   "outputs": [
    {
     "data": {
      "text/plain": [
       "7"
      ]
     },
     "execution_count": 75,
     "metadata": {},
     "output_type": "execute_result"
    }
   ],
   "source": [
    "first_non_repeating_integer([3,1,1,6,2,7,2,6,2,3,4,8])"
   ]
  },
  {
   "cell_type": "markdown",
   "metadata": {},
   "source": [
    "The above result can also be obtained with the help of an ordered dict (not necessary in python 3 as ordered by default). It can be implemented like so:"
   ]
  },
  {
   "cell_type": "code",
   "execution_count": 90,
   "metadata": {},
   "outputs": [],
   "source": [
    "from collections import OrderedDict\n",
    "def first_non_repeating_integer_ord(it):\n",
    "    d = OrderedDict()\n",
    "    for x in it:\n",
    "        d[x] = d.get(x, 0) + 1\n",
    "    return next((x for x in d if d[x] == 1), -1)"
   ]
  },
  {
   "cell_type": "code",
   "execution_count": 91,
   "metadata": {},
   "outputs": [
    {
     "data": {
      "text/plain": [
       "7"
      ]
     },
     "execution_count": 91,
     "metadata": {},
     "output_type": "execute_result"
    }
   ],
   "source": [
    "first_non_repeating_integer_ord([3,1,1,6,2,7,2,6,2,3,4,8])"
   ]
  },
  {
   "cell_type": "markdown",
   "metadata": {},
   "source": [
    "## Find 2nd maximum value in a list."
   ]
  },
  {
   "cell_type": "markdown",
   "metadata": {},
   "source": [
    "Multiple solutions come up to this problem.\n",
    "* Easiest is sort the list and return the element that exists at the 1st index (i.e the second number). (O(nlogn) complexity)\n",
    "* Use a stack whose size will be limited to 2, this stack will hold the top 2 sized elements. (More on stack implementation in Python [here](https://realpython.com/how-to-implement-python-stack/). THIS SOLUTION SEEMS TO HAVE A COMPLEXITY OF O(n*k) SO NOT IDEAL."
   ]
  },
  {
   "cell_type": "code",
   "execution_count": 16,
   "metadata": {},
   "outputs": [],
   "source": [
    "def update_stack(st, ele):\n",
    "    if len(st) == 0:\n",
    "        st.append(ele)\n",
    "    else:\n",
    "        temp_st = list()\n",
    "        while st and st[-1] < ele:\n",
    "            temp_st.append(st.pop())\n",
    "        if len(st) < 2: st.append(ele)\n",
    "        while len(st) < 2:\n",
    "            st.append(temp_st.pop())\n",
    "    return st"
   ]
  },
  {
   "cell_type": "code",
   "execution_count": 17,
   "metadata": {},
   "outputs": [],
   "source": [
    "def find_sec_max_stack(li):\n",
    "    num_stack = list()\n",
    "    if len(li) < 2:\n",
    "        return None\n",
    "    for ele in li: \n",
    "        update_stack(num_stack, ele)\n",
    "    return num_stack"
   ]
  },
  {
   "cell_type": "code",
   "execution_count": 18,
   "metadata": {},
   "outputs": [
    {
     "data": {
      "text/plain": [
       "[122, 66]"
      ]
     },
     "execution_count": 18,
     "metadata": {},
     "output_type": "execute_result"
    }
   ],
   "source": [
    "find_sec_max_stack([122,4,66,22,5,38])"
   ]
  },
  {
   "cell_type": "markdown",
   "metadata": {},
   "source": [
    "## Rotate a list."
   ]
  },
  {
   "cell_type": "markdown",
   "metadata": {},
   "source": [
    "Here's the [GFG implementation](https://www.geeksforgeeks.org/array-rotation/) for left rotating an array in place. It works on the basis that gcd of length of list and the no of rotations gives you mutiple sets and all rotation will take place between the elements of the multiple sets. Refer [this video](https://www.youtube.com/watch?v=H_2_nqKAZ5w) in case of any doubts regarding what exactly GCD(or HCF) is and how exactly the below GCD implementation works."
   ]
  },
  {
   "cell_type": "code",
   "execution_count": 14,
   "metadata": {},
   "outputs": [],
   "source": [
    "# The Naive solution, Time: 0(n), Space: 0(d)\n",
    "def right_rotate_list_python(li, no_of_rotations):\n",
    "    no_of_rotations = no_of_rotations % len(li)\n",
    "    return li[len(li) - no_of_rotations:] + li[:len(li) - no_of_rotations]"
   ]
  },
  {
   "cell_type": "code",
   "execution_count": 12,
   "metadata": {},
   "outputs": [
    {
     "data": {
      "text/plain": [
       "[6, 7, 1, 2, 3, 4, 5]"
      ]
     },
     "execution_count": 12,
     "metadata": {},
     "output_type": "execute_result"
    }
   ],
   "source": [
    "right_rotate_list_python([1, 2, 3, 4, 5, 6, 7], 2)"
   ]
  },
  {
   "cell_type": "markdown",
   "metadata": {},
   "source": [
    "Left rotate a list by juggling algo, Space: 0(1), Time: 0(n)"
   ]
  },
  {
   "cell_type": "code",
   "execution_count": 7,
   "metadata": {},
   "outputs": [],
   "source": [
    "def leftRotate(arr, d, n): \n",
    "    g_c_d = gcd(d, n) \n",
    "    for i in range(g_c_d): \n",
    "        # move i-th values of blocks  \n",
    "        temp = arr[i] \n",
    "        j = i \n",
    "        while True: \n",
    "            k = j + d \n",
    "            if k >= n: \n",
    "                k = k - n \n",
    "            if k == i: \n",
    "                break\n",
    "            arr[j] = arr[k] \n",
    "            j = k \n",
    "        arr[j] = temp \n",
    "    return arr\n",
    "   \n",
    "# Fuction to get gcd of a and b \n",
    "def gcd(a, b): \n",
    "    if b == 0: \n",
    "        return a; \n",
    "    else: \n",
    "        return gcd(b, a % b)"
   ]
  },
  {
   "cell_type": "code",
   "execution_count": 13,
   "metadata": {},
   "outputs": [
    {
     "data": {
      "text/plain": [
       "[3, 4, 5, 6, 7, 1, 2]"
      ]
     },
     "execution_count": 13,
     "metadata": {},
     "output_type": "execute_result"
    }
   ],
   "source": [
    "leftRotate([1, 2, 3, 4, 5, 6, 7], 2, 7)"
   ]
  },
  {
   "cell_type": "markdown",
   "metadata": {},
   "source": [
    "## Rearrange Positive and Negative Values"
   ]
  },
  {
   "cell_type": "markdown",
   "metadata": {},
   "source": [
    "Given below is the most optimized soln that uses the concept of having a pivot and placing the elements around the  pivot. Find the [GFG link](https://www.geeksforgeeks.org/rearrange-positive-and-negative-numbers/)"
   ]
  },
  {
   "cell_type": "code",
   "execution_count": 29,
   "metadata": {},
   "outputs": [],
   "source": [
    "# T: 0(n), S: 0(1)\n",
    "def rearrange_pos_and_neg_values(li):\n",
    "    if len(li) <= 1:\n",
    "        return li\n",
    "    separator = index = 0\n",
    "    while all((x < len(li) for x in (separator, index))):\n",
    "        if li[index] >= 0:\n",
    "            index += 1\n",
    "        else:\n",
    "            li[index], li[separator] = li[separator], li[index]\n",
    "            index += 1\n",
    "            separator += 1\n",
    "    return li, separator"
   ]
  },
  {
   "cell_type": "code",
   "execution_count": 30,
   "metadata": {},
   "outputs": [
    {
     "data": {
      "text/plain": [
       "([-12, -5, -60, 44, 1, 22], 3)"
      ]
     },
     "execution_count": 30,
     "metadata": {},
     "output_type": "execute_result"
    }
   ],
   "source": [
    "rearrange_pos_and_neg_values([22, 1, 0 -12 , 44, -5, -60])"
   ]
  },
  {
   "cell_type": "markdown",
   "metadata": {},
   "source": [
    "## Rearrange Sorted array in Max Min form"
   ]
  },
  {
   "cell_type": "markdown",
   "metadata": {},
   "source": [
    "The naive implementation is easy enough, have 2 pointers, one point to start of the index, the other points to the end of the index, add elements from both the indexes and then increment & decrement accordingly while appending onto the new index. The challenging soluntion here would be do this with no extra space i.e. in 0(1) space complexity. The GFG implementation of the same can be found [here.](https://www.geeksforgeeks.org/rearrange-array-maximum-minimum-form-set-2-o1-extra-space/)"
   ]
  },
  {
   "cell_type": "code",
   "execution_count": null,
   "metadata": {},
   "outputs": [],
   "source": [
    "def max_min_form(li):\n",
    "    pass"
   ]
  },
  {
   "cell_type": "markdown",
   "metadata": {},
   "source": [
    "## Add one to the given number list"
   ]
  },
  {
   "cell_type": "markdown",
   "metadata": {},
   "source": [
    "Given a number (as a list) add one to the number formed by the list and return corresponding number (as a list again).\n",
    "For removing whitespace in place check [Stack overflow: Remove items from a list while iterating](https://stackoverflow.com/questions/1207406/how-to-remove-items-from-a-list-while-iterating)"
   ]
  },
  {
   "cell_type": "code",
   "execution_count": 42,
   "metadata": {},
   "outputs": [],
   "source": [
    "def add_one(li):\n",
    "    # TODO: Remove trailing zeroes\n",
    "    if len(li) == 0:\n",
    "        return []\n",
    "    rev_ind = len(li) - 1\n",
    "    while rev_ind in range(len(li)):\n",
    "        li[rev_ind] += 1\n",
    "        if li[rev_ind] == 10:\n",
    "            li[rev_ind] = 0\n",
    "            rev_ind -= 1\n",
    "            continue\n",
    "        else:\n",
    "            break\n",
    "    if li[0] == 0:\n",
    "        li.insert(0, 1)\n",
    "    return li"
   ]
  },
  {
   "cell_type": "code",
   "execution_count": 43,
   "metadata": {
    "scrolled": true
   },
   "outputs": [
    {
     "data": {
      "text/plain": [
       "[1, 0, 0, 0]"
      ]
     },
     "execution_count": 43,
     "metadata": {},
     "output_type": "execute_result"
    }
   ],
   "source": [
    "add_one([9,9,9])"
   ]
  },
  {
   "cell_type": "code",
   "execution_count": null,
   "metadata": {},
   "outputs": [],
   "source": [
    "def find_optimal_route(max_travel_distance, forward_route_list, return_route_list):\n",
    "    sorted_forward_list = sorted(forward_route_list, )"
   ]
  }
 ],
 "metadata": {
  "kernelspec": {
   "display_name": "Python 3",
   "language": "python",
   "name": "python3"
  },
  "language_info": {
   "codemirror_mode": {
    "name": "ipython",
    "version": 2
   },
   "file_extension": ".py",
   "mimetype": "text/x-python",
   "name": "python",
   "nbconvert_exporter": "python",
   "pygments_lexer": "ipython2",
   "version": "2.7.15rc1"
  }
 },
 "nbformat": 4,
 "nbformat_minor": 2
}
