{
 "cells": [
  {
   "cell_type": "markdown",
   "metadata": {},
   "source": [
    "## Some Good resources on Linked List implementation:"
   ]
  },
  {
   "cell_type": "markdown",
   "metadata": {},
   "source": [
    "* [Real Python/Dbader: Linked list implementation and comparision with Lists, and emulation of linked list with inbuilt modules](https://dbader.org/blog/python-linked-list)\n",
    "* [Runestone Academy: Linked list implementation](https://runestone.academy/runestone/books/published/pythonds/BasicDS/ImplementinganUnorderedListLinkedLists.html)"
   ]
  },
  {
   "cell_type": "markdown",
   "metadata": {},
   "source": [
    "## Linked List implementation with basic functions"
   ]
  },
  {
   "cell_type": "code",
   "execution_count": 2,
   "metadata": {},
   "outputs": [],
   "source": [
    "class Node:\n",
    "    def __init__(self, data):\n",
    "        self.data = data\n",
    "        self.next = None\n",
    "    \n",
    "    def get_data(self):\n",
    "        return self.data\n",
    "    \n",
    "    def get_next(self):\n",
    "        return self.next\n",
    "    \n",
    "    def set_data(self, data):\n",
    "        self.data = data\n",
    "    \n",
    "    def set_next(self, next_node):\n",
    "        self.next = next_node\n",
    "    \n",
    "    def __repr__(self):\n",
    "        return repr(self.data)"
   ]
  },
  {
   "cell_type": "code",
   "execution_count": 3,
   "metadata": {},
   "outputs": [],
   "source": [
    "class LinkedList:\n",
    "    def __init__(self):\n",
    "        self.head = self.tail = None\n",
    "        self.count = 0\n",
    "\n",
    "    def __repr__(self):\n",
    "        if self.is_empty():\n",
    "            return \"LinkedList is Empty\"\n",
    "        else:\n",
    "            ele_str = \"Size: {}, Elements: \".format(self.get_size())\n",
    "            temp = self.head\n",
    "            while temp:\n",
    "                ele_str += (str(temp.get_data()) + \" -> \")\n",
    "                temp = temp.get_next()\n",
    "            # Remove the trailing \" -> \"\n",
    "            return ele_str[:-4]\n",
    "        \n",
    "    def is_empty(self):\n",
    "        return True if self.count == 0 else False\n",
    "    \n",
    "    def get_size(self):\n",
    "        return self.count\n",
    "    \n",
    "    def append(self, val):\n",
    "        new_node = Node(val)\n",
    "        if self.is_empty():\n",
    "            self.head = self.tail = new_node\n",
    "        else:\n",
    "            self.tail.set_next(new_node)\n",
    "            self.tail = self.tail.get_next()\n",
    "        self.count += 1\n",
    "        return self.tail\n",
    "    \n",
    "    def prepend(self, val, is_node=False):\n",
    "        new_node = val if is_node else Node(val) \n",
    "        if self.is_empty():\n",
    "            self.head = self.tail = new_node\n",
    "        else:\n",
    "            new_node.set_next(self.head)\n",
    "            self.head = new_node\n",
    "        self.count += 1\n",
    "        return self.head\n",
    "\n",
    "    def find(self, val):\n",
    "        if self.is_empty():\n",
    "            return -1\n",
    "        temp_head = self.head\n",
    "        node_index = 0\n",
    "        while temp_head:\n",
    "            if temp_head.get_data() == val:\n",
    "                return node_index\n",
    "            else:\n",
    "                temp_head = temp_head.get_next()\n",
    "                node_index += 1\n",
    "        return -1\n",
    "    \n",
    "    def remove(self, val):\n",
    "        if self.is_empty():\n",
    "            return False\n",
    "        temp_head = self.head\n",
    "        temp_prev_to_head = self.head.get_next()\n",
    "        while temp_head and temp_head.get_data() != val:\n",
    "            temp_prev_to_head = temp_head\n",
    "            temp_head = temp_head.get_next()\n",
    "        if not temp_head:\n",
    "            return False\n",
    "        else:\n",
    "            if not temp_head.get_next():\n",
    "                temp_prev_to_head.set_next(None)\n",
    "                self.tail = temp_prev_to_head\n",
    "            else:\n",
    "                temp_prev_to_head.set_next(temp_head.get_next())\n",
    "                self.count -= 1\n",
    "            self.count -= 1\n",
    "            return True\n",
    "\n",
    "    def reverse(self):\n",
    "        # Check https://leetcode.com/problems/reverse-linked-list/solution/\n",
    "        head_before_reverse = self.head\n",
    "        prev, cur, nex = None, self.head, None\n",
    "        while cur:\n",
    "            nex = cur.get_next()\n",
    "            cur.set_next(prev)\n",
    "            prev = cur\n",
    "            cur = nex\n",
    "        self.head, self.tail = prev, head_before_reverse\n",
    "        return self.head\n",
    "    \n",
    "    def insert_at_index(self, ind, val):\n",
    "        new_node = Node(val)\n",
    "        if self.is_empty():\n",
    "            return self.append(new_node)\n",
    "        elif ind not in range(self.count + 1):\n",
    "            raise IndexError\n",
    "\n",
    "        if ind == 0:\n",
    "            return self.prepend(new_node)\n",
    "        elif ind == self.count:\n",
    "            return self.append(new_node)\n",
    "        # Navigate till one index less than the position we have to insert at.\n",
    "        temp_head = self.head\n",
    "        temp_count = 0\n",
    "        while temp_count < (ind - 1):\n",
    "            temp_count += 1\n",
    "            temp_head = temp_head.get_next()\n",
    "        temp_next = temp_head.get_next()\n",
    "        new_node.set_next(temp_next)\n",
    "        temp_head.set_next(new_node)\n",
    "        return self.head\n",
    "        "
   ]
  },
  {
   "cell_type": "code",
   "execution_count": 4,
   "metadata": {
    "scrolled": true
   },
   "outputs": [
    {
     "name": "stdout",
     "output_type": "stream",
     "text": [
      "Size: 4, Elements: 0 -> 1 -> inserted node -> 2 -> 3\n"
     ]
    }
   ],
   "source": [
    "ll = LinkedList()\n",
    "ll.append(1)\n",
    "ll.append(2)\n",
    "ll.append(3)\n",
    "ll.prepend(0)\n",
    "ll.insert_at_index(2, \"inserted node\")\n",
    "print(ll)"
   ]
  },
  {
   "cell_type": "code",
   "execution_count": 5,
   "metadata": {
    "scrolled": true
   },
   "outputs": [
    {
     "name": "stdout",
     "output_type": "stream",
     "text": [
      "Size: 4, Elements: 3 -> 2 -> inserted node -> 1 -> 0\n"
     ]
    }
   ],
   "source": [
    "ll.reverse()\n",
    "print(ll)"
   ]
  },
  {
   "cell_type": "code",
   "execution_count": 6,
   "metadata": {},
   "outputs": [],
   "source": [
    "def ll_reverse_recursive(no, prev=None):\n",
    "    if not no:\n",
    "        return prev\n",
    "    temp = no.get_next()\n",
    "    no.set_next(prev)\n",
    "    return ll_reverse_recursive(temp, no)"
   ]
  },
  {
   "cell_type": "code",
   "execution_count": 7,
   "metadata": {},
   "outputs": [],
   "source": [
    "def print_node(node):\n",
    "    temp = node\n",
    "    ele_str = \"\"\n",
    "    while temp:\n",
    "        ele_str += (str(temp.get_data()) + \" -> \")\n",
    "        temp = temp.get_next()\n",
    "    return ele_str[:-4]"
   ]
  },
  {
   "cell_type": "code",
   "execution_count": 8,
   "metadata": {},
   "outputs": [
    {
     "name": "stdout",
     "output_type": "stream",
     "text": [
      "a -> b -> c -> d\n",
      "d -> c -> b -> a\n",
      "a -> b -> c -> d\n"
     ]
    }
   ],
   "source": [
    "na = Node('a')\n",
    "nb = Node('b')\n",
    "nc = Node('c')\n",
    "nd = Node('d')\n",
    "\n",
    "na.set_next(nb)\n",
    "nb.set_next(nc)\n",
    "nc.set_next(nd)\n",
    "print(print_node(na))\n",
    "rev_no = ll_reverse_recursive(na)\n",
    "print(print_node(rev_no))\n",
    "print(print_node(ll_reverse_recursive(rev_no)))"
   ]
  },
  {
   "cell_type": "markdown",
   "metadata": {},
   "source": [
    "## Reverse a Singly linked list in batches"
   ]
  },
  {
   "cell_type": "code",
   "execution_count": 9,
   "metadata": {},
   "outputs": [
    {
     "data": {
      "text/plain": [
       "'a -> b -> c -> d -> e -> f -> g'"
      ]
     },
     "execution_count": 9,
     "metadata": {},
     "output_type": "execute_result"
    }
   ],
   "source": [
    "na = Node('a')\n",
    "nb = Node('b')\n",
    "nc = Node('c')\n",
    "nd = Node('d')\n",
    "ne = Node('e')\n",
    "nf = Node('f')\n",
    "ng = Node('g')\n",
    "\n",
    "na.set_next(nb)\n",
    "nb.set_next(nc)\n",
    "nc.set_next(nd)\n",
    "nd.set_next(ne)\n",
    "ne.set_next(nf)\n",
    "nf.set_next(ng)\n",
    "\n",
    "print_node(na)"
   ]
  },
  {
   "cell_type": "code",
   "execution_count": 10,
   "metadata": {},
   "outputs": [],
   "source": [
    "# TODO PENDING!!!!!!\n",
    "def reverse_ll_in_batches(head, k=3):\n",
    "    prev = None\n",
    "    cur = head\n",
    "    count = 0\n",
    "    while cur and count < k:\n",
    "        nex = cur.get_next()\n",
    "        cur.set_next(prev)\n",
    "        prev, cur = cur, nex\n",
    "        count += 1\n",
    "    if cur:\n",
    "        prev.set_next(cur)\n",
    "    return prev"
   ]
  },
  {
   "cell_type": "code",
   "execution_count": 11,
   "metadata": {},
   "outputs": [
    {
     "data": {
      "text/plain": [
       "'g -> f -> e -> d -> c -> b -> a'"
      ]
     },
     "execution_count": 11,
     "metadata": {},
     "output_type": "execute_result"
    }
   ],
   "source": [
    "print_node(ll_reverse_recursive(na))"
   ]
  },
  {
   "cell_type": "markdown",
   "metadata": {},
   "source": [
    "## Detect loop in linked list"
   ]
  },
  {
   "cell_type": "markdown",
   "metadata": {},
   "source": [
    "You can find a loop in a linked list by having 2 pointers, 1 fast the other slow. The slow pointer moves one node at a time and the fast pointer moves 2 nodes at a time. The terminating condition here is either all nodes being traversed or a point where out fast and slow pointer meet. If they both meet we have detected a loop else if we reach the end of the linked list then there is no loop in the linked list.\n",
    "\n",
    "Proof of why having 2 pointers slow and fast works and why we end up finding if a loop exists if 2 nodes meet can be found in the [video here](https://www.youtube.com/watch?v=-YiQZi3mLq0)."
   ]
  },
  {
   "cell_type": "code",
   "execution_count": 12,
   "metadata": {},
   "outputs": [],
   "source": [
    "def detect_loop(head):\n",
    "    slow_ptr = fast_ptr = head\n",
    "    while slow_ptr and fast_ptr and fast_ptr.get_next():\n",
    "        slow_ptr = slow_ptr.get_next()\n",
    "        fast_ptr = fast_ptr.get_next().get_next()\n",
    "        if slow_ptr == fast_ptr: return True\n",
    "    return False"
   ]
  },
  {
   "cell_type": "code",
   "execution_count": 13,
   "metadata": {},
   "outputs": [
    {
     "name": "stdout",
     "output_type": "stream",
     "text": [
      "True\n"
     ]
    }
   ],
   "source": [
    "loop_a = Node('a')\n",
    "loop_b = Node('b')\n",
    "loop_c = Node('c')\n",
    "loop_d = Node('d')\n",
    "loop_e = Node('e')\n",
    "loop_f = Node('f')\n",
    "loop_g = Node('g')\n",
    "\n",
    "loop_a.set_next(loop_b)\n",
    "loop_b.set_next(loop_c)\n",
    "loop_c.set_next(loop_d)\n",
    "loop_d.set_next(loop_e)\n",
    "loop_e.set_next(loop_f)\n",
    "loop_f.set_next(loop_g)\n",
    "loop_g.set_next(loop_d)\n",
    "\n",
    "print(detect_loop(loop_a))"
   ]
  },
  {
   "cell_type": "markdown",
   "metadata": {},
   "source": [
    "## Find the starting point of a loop in a linked list"
   ]
  },
  {
   "cell_type": "markdown",
   "metadata": {},
   "source": [
    "To find the starting point of a loop in a linked list we make use of 'Floyd's Theorem'. An excellent explaination for the same can be found in Gaurav Sen's video [here](https://www.youtube.com/watch?v=-YiQZi3mLq0)."
   ]
  },
  {
   "cell_type": "code",
   "execution_count": 14,
   "metadata": {},
   "outputs": [],
   "source": [
    "def detect_loop_and_return_start(head):\n",
    "    slow_ptr = fast_ptr = head\n",
    "    while slow_ptr and fast_ptr and fast_ptr.get_next():\n",
    "        slow_ptr = slow_ptr.get_next()\n",
    "        fast_ptr = fast_ptr.get_next().get_next()\n",
    "        if slow_ptr == fast_ptr:\n",
    "#             print(\"slow_ptr and fast_ptr met at: {}\".format(slow_ptr))\n",
    "            slow_ptr = head\n",
    "#             print(\"Resetting slow pointer to head, {}\".format(slow_ptr))\n",
    "            while slow_ptr != fast_ptr:\n",
    "#                 print(\"slow_ptr moved to {}, fast_ptr moved to {}\".format(slow_ptr, fast_ptr))\n",
    "                slow_ptr, fast_ptr = slow_ptr.get_next(), fast_ptr.get_next()\n",
    "            return slow_ptr\n",
    "    return \"No Loop found in linked list\""
   ]
  },
  {
   "cell_type": "code",
   "execution_count": 15,
   "metadata": {},
   "outputs": [
    {
     "name": "stdout",
     "output_type": "stream",
     "text": [
      "'d'\n"
     ]
    }
   ],
   "source": [
    "print(detect_loop_and_return_start(loop_a))"
   ]
  },
  {
   "cell_type": "markdown",
   "metadata": {},
   "source": [
    "## [Find middle node of a linked list](https://www.youtube.com/watch?v=UitXxwVeOrk)"
   ]
  },
  {
   "cell_type": "code",
   "execution_count": 16,
   "metadata": {},
   "outputs": [],
   "source": [
    "def find_middle(head):\n",
    "    \"\"\"Return mid of linked list, for an even numbered linked list it returns the later middle\"\"\"\n",
    "    if not head:\n",
    "        return \"Linked list is empty\"\n",
    "    elif detect_loop(head):\n",
    "        return \"Loop detected in LL, can't find mid element.\"\n",
    "    slow_ptr = fast_ptr = head\n",
    "    # With this logic for a linked list of even length you get the middle in the second half\n",
    "    # example for a linked list of length 8 you will get the 5th element as mid\n",
    "    while slow_ptr and fast_ptr and fast_ptr.get_next():\n",
    "        slow_ptr = slow_ptr.get_next()\n",
    "        fast_ptr = fast_ptr.get_next().get_next()\n",
    "    return slow_ptr"
   ]
  },
  {
   "cell_type": "code",
   "execution_count": 17,
   "metadata": {},
   "outputs": [],
   "source": [
    "def find_middle_updated(head):\n",
    "    \"\"\"Return mid of linked list, for an even numbered linked list it returns the earlier middle\"\"\"\n",
    "    if not head:\n",
    "        return \"Linked list is empty\"\n",
    "    elif detect_loop(head):\n",
    "        return \"Loop detected in LL, can't find mid element.\"\n",
    "    slow_ptr = head\n",
    "    fast_ptr = head.get_next()\n",
    "    while fast_ptr:\n",
    "        fast_ptr = fast_ptr.get_next()\n",
    "        if fast_ptr:\n",
    "            slow_ptr = slow_ptr.get_next()\n",
    "            fast_ptr = fast_ptr.get_next()\n",
    "    return slow_ptr"
   ]
  },
  {
   "cell_type": "code",
   "execution_count": 18,
   "metadata": {},
   "outputs": [],
   "source": [
    "loop_h = Node('h')\n",
    "loop_g.set_next(loop_h)\n",
    "loop_g.set_next(None)"
   ]
  },
  {
   "cell_type": "code",
   "execution_count": 19,
   "metadata": {},
   "outputs": [
    {
     "data": {
      "text/plain": [
       "'d'"
      ]
     },
     "execution_count": 19,
     "metadata": {},
     "output_type": "execute_result"
    }
   ],
   "source": [
    "find_middle(loop_a)"
   ]
  },
  {
   "cell_type": "markdown",
   "metadata": {},
   "source": [
    "## [Remove duplicates from an unsorted linked list](https://www.geeksforgeeks.org/remove-duplicates-from-an-unsorted-linked-list/)"
   ]
  },
  {
   "cell_type": "code",
   "execution_count": 20,
   "metadata": {},
   "outputs": [],
   "source": [
    "def remove_duplicates_unsorted(head):\n",
    "    if not head:\n",
    "        return \"Empty Linked list.\"\n",
    "    existing_values = set()\n",
    "    back, temp = None, head\n",
    "    while temp:\n",
    "        if temp.get_data() not in existing_values:\n",
    "            existing_values.add(temp.get_data())\n",
    "            back = temp\n",
    "            temp = temp.get_next()\n",
    "        else:\n",
    "            temp = temp.get_next()\n",
    "            back.set_next(temp)\n",
    "    return head"
   ]
  },
  {
   "cell_type": "code",
   "execution_count": 21,
   "metadata": {},
   "outputs": [
    {
     "name": "stdout",
     "output_type": "stream",
     "text": [
      "a -> a -> b -> c -> c\n",
      "a -> b -> c\n"
     ]
    }
   ],
   "source": [
    "dup_a = Node('a')\n",
    "dup_a_ = Node('a')\n",
    "dup_b = Node('b')\n",
    "dup_c = Node('c')\n",
    "dup_c_ = Node('c')\n",
    "\n",
    "dup_a.set_next(dup_a_)\n",
    "dup_a_.set_next(dup_b)\n",
    "dup_b.set_next(dup_c)\n",
    "dup_c.set_next(dup_c_)\n",
    "\n",
    "print(print_node(dup_a))\n",
    "remove_duplicates_unsorted(dup_a)\n",
    "print(print_node(dup_a))"
   ]
  },
  {
   "cell_type": "markdown",
   "metadata": {},
   "source": [
    "## [Remove duplicate elements from a sorted linked list](https://www.geeksforgeeks.org/remove-duplicates-from-a-sorted-linked-list/)"
   ]
  },
  {
   "cell_type": "code",
   "execution_count": 22,
   "metadata": {},
   "outputs": [],
   "source": [
    "def remove_duplicates_sorted(head):\n",
    "    if not head:\n",
    "        return \"Given linked list is empty\"\n",
    "    temp = head\n",
    "    while temp:\n",
    "        cur = temp\n",
    "        while cur and cur.get_data() == temp.get_data():\n",
    "            cur = cur.get_next()\n",
    "        temp.set_next(cur)\n",
    "        temp = temp.get_next()\n",
    "    return head"
   ]
  },
  {
   "cell_type": "code",
   "execution_count": 23,
   "metadata": {},
   "outputs": [
    {
     "name": "stdout",
     "output_type": "stream",
     "text": [
      "1 -> 2 -> 2 -> 2 -> 3 -> 5\n",
      "1 -> 2 -> 3 -> 5\n"
     ]
    }
   ],
   "source": [
    "sor_1 = Node(1)\n",
    "sor_2 = Node(2)\n",
    "sor_2_1 = Node(2)\n",
    "sor_2_2 = Node(2)\n",
    "sor_3 = Node(3)\n",
    "sor_5 = Node(5)\n",
    "\n",
    "sor_1.set_next(sor_2)\n",
    "sor_2.set_next(sor_2_1)\n",
    "sor_2_1.set_next(sor_2_2)\n",
    "sor_2_2.set_next(sor_3)\n",
    "sor_3.set_next(sor_5)\n",
    "\n",
    "print(print_node(sor_1))\n",
    "remove_duplicates_sorted(sor_1)\n",
    "print(print_node(sor_1))"
   ]
  },
  {
   "cell_type": "markdown",
   "metadata": {},
   "source": [
    "## Sort Linked list"
   ]
  },
  {
   "cell_type": "code",
   "execution_count": 24,
   "metadata": {},
   "outputs": [],
   "source": [
    "def merge_sorted(left, right):\n",
    "    if not left:\n",
    "        return right\n",
    "    if not right:\n",
    "        return left\n",
    "    result = None\n",
    "    if left.get_data() <= right.get_data():\n",
    "        result = left\n",
    "        result.set_next(merge_sorted(left.get_next(), right))\n",
    "    else:\n",
    "        result = right\n",
    "        result.set_next(merge_sorted(left, right.get_next()))\n",
    "    return result"
   ]
  },
  {
   "cell_type": "code",
   "execution_count": 25,
   "metadata": {},
   "outputs": [],
   "source": [
    "def sort_linked_list(head):\n",
    "    if not head or not head.get_next():\n",
    "        return head\n",
    "    mid_node = find_middle_updated(head)\n",
    "    next_to_mid = mid_node.get_next()\n",
    "\n",
    "    \n",
    "    mid_node.set_next(None)\n",
    "    \n",
    "    left_sorted = sort_linked_list(head)\n",
    "    right_sorted = sort_linked_list(next_to_mid)\n",
    "    \n",
    "    sorted_node_head = merge_sorted(left_sorted, right_sorted)\n",
    "    return sorted_node_head"
   ]
  },
  {
   "cell_type": "code",
   "execution_count": 33,
   "metadata": {},
   "outputs": [
    {
     "name": "stdout",
     "output_type": "stream",
     "text": [
      "2 -> 1 -> 7 -> 4 -> 3 -> 6 -> 5\n",
      "1 -> 2 -> 3 -> 4 -> 5 -> 6 -> 7\n"
     ]
    }
   ],
   "source": [
    "n1 = Node(1)\n",
    "n2 = Node(2)\n",
    "n3 = Node(3)\n",
    "n4 = Node(4)\n",
    "n5 = Node(5)\n",
    "n6 = Node(6)\n",
    "n7 = Node(7)\n",
    "\n",
    "n2.set_next(n1)\n",
    "n1.set_next(n7)\n",
    "n7.set_next(n4)\n",
    "n4.set_next(n3)\n",
    "n3.set_next(n6)\n",
    "n6.set_next(n5)\n",
    "\n",
    "print(print_node(n2))\n",
    "print(print_node(sort_linked_list(n2)))"
   ]
  },
  {
   "cell_type": "markdown",
   "metadata": {},
   "source": [
    "## Union of 2 Linked lists"
   ]
  },
  {
   "cell_type": "markdown",
   "metadata": {},
   "source": [
    "I can observe multiple stratgies for this. All strategies have a requirement of knowing if the given linked list is sorted or not before hand. The strategies are:\n",
    "* Sorted:\n",
    "    * The usual merging of a sorted linked list.\n",
    "* Unsorted:\n",
    "    * An O(n^2) solution where you iterate over a linked list multiple times to check if an element exisits in the other if so then add it onto the solution else no.\n",
    "    * Use extra space to store the number of elements that appear in both of them and cross check and compare and create a new linked list based on the hashmaps of both the linked lists."
   ]
  },
  {
   "cell_type": "code",
   "execution_count": 27,
   "metadata": {},
   "outputs": [],
   "source": [
    "def union_linked_list(a, b):\n",
    "    a_head = a_sorted = sort_linked_list(a)\n",
    "    b_sorted = sort_linked_list(b)\n",
    "    temp_a, temp_b = a_sorted, b_sorted\n",
    "    # Lets add all elements which aren't present in b onto a to achieve union\n",
    "    while temp_b and temp_a:\n",
    "        if temp_a.get_data() == temp_b.get_data():\n",
    "            temp_a = temp_a.get_next()\n",
    "            temp_b = temp_b.get_next()\n",
    "        elif temp_a.get_data() < temp_b.get_data():\n",
    "            temp_a = temp_a.get_next()\n",
    "        else:\n",
    "            new_node = Node(temp_b.get_data())\n",
    "            new_node.set_next(a_head)\n",
    "            a_head = new_node\n",
    "            temp_b = temp_b.get_next()\n",
    "    if temp_b:\n",
    "        while temp_b:\n",
    "            new_node = Node(temp_b.get_data())\n",
    "            new_node.set_next(a_head)\n",
    "            a_head = new_node\n",
    "            temp_b = temp_b.get_next()\n",
    "    return a_head"
   ]
  },
  {
   "cell_type": "code",
   "execution_count": 28,
   "metadata": {},
   "outputs": [
    {
     "name": "stdout",
     "output_type": "stream",
     "text": [
      "2 -> 1 -> 7 -> 4 7 -> 2 -> 1 -> 8 -> 9\n",
      "9 -> 8 -> 1 -> 2 -> 4 -> 7\n"
     ]
    }
   ],
   "source": [
    "n1 = Node(1)\n",
    "n2 = Node(2)\n",
    "n7 = Node(7)\n",
    "n4 = Node(4)\n",
    "\n",
    "n2.set_next(n1)\n",
    "n1.set_next(n7)\n",
    "n7.set_next(n4)\n",
    "\n",
    "n5 = Node(1)\n",
    "n6 = Node(2)\n",
    "n3 = Node(7)\n",
    "n9 = Node(9)\n",
    "n8 = Node(8)\n",
    "\n",
    "n3.set_next(n6)\n",
    "n6.set_next(n5)\n",
    "n5.set_next(n8)\n",
    "n8.set_next(n9)\n",
    "\n",
    "print(print_node(n2), print_node(n3))\n",
    "print(print_node(union_linked_list(n2, n3)))"
   ]
  },
  {
   "cell_type": "code",
   "execution_count": 29,
   "metadata": {},
   "outputs": [],
   "source": [
    "def intersection_linked_lists(a, b):\n",
    "    if not a:\n",
    "        return b\n",
    "    elif not b:\n",
    "        return a\n",
    "    result = tail = None\n",
    "    temp_a = a\n",
    "    while temp_a:\n",
    "        temp_b = b\n",
    "        while temp_b:\n",
    "            if temp_b.get_data() == temp_a.get_data():\n",
    "                if not result:\n",
    "                    result = Node(temp_a.get_data())\n",
    "                    tail = result\n",
    "                else:\n",
    "                    tail.set_next(Node(temp_a.get_data()))\n",
    "                    tail = tail.get_next()\n",
    "                break\n",
    "            temp_b = temp_b.get_next()\n",
    "        temp_a = temp_a.get_next()\n",
    "    return result"
   ]
  },
  {
   "cell_type": "code",
   "execution_count": 30,
   "metadata": {},
   "outputs": [
    {
     "name": "stdout",
     "output_type": "stream",
     "text": [
      "2 -> 1 -> 7 -> 4 7 -> 2 -> 1\n",
      "2 -> 1 -> 7\n"
     ]
    }
   ],
   "source": [
    "n1 = Node(1)\n",
    "n2 = Node(2)\n",
    "n7 = Node(7)\n",
    "n4 = Node(4)\n",
    "\n",
    "n2.set_next(n1)\n",
    "n1.set_next(n7)\n",
    "n7.set_next(n4)\n",
    "\n",
    "n5 = Node(1)\n",
    "n6 = Node(2)\n",
    "n3 = Node(7)\n",
    "\n",
    "n3.set_next(n6)\n",
    "n6.set_next(n5)\n",
    "print(print_node(n2), print_node(n3))\n",
    "print(print_node(intersection_linked_lists(n2, n3)))"
   ]
  },
  {
   "cell_type": "markdown",
   "metadata": {},
   "source": [
    "## Doubly Linked List implementation"
   ]
  },
  {
   "cell_type": "code",
   "execution_count": 31,
   "metadata": {},
   "outputs": [],
   "source": [
    "class DoubleNode(Node):\n",
    "    def __init__(self, val):\n",
    "        super().__init__(val)\n",
    "        self.prev = None\n",
    "    \n",
    "    def get_prev(self):\n",
    "        return self.prev\n",
    "    \n",
    "    def set_prev(self, prev_node):\n",
    "        self.prev = prev_node"
   ]
  },
  {
   "cell_type": "code",
   "execution_count": 32,
   "metadata": {},
   "outputs": [],
   "source": [
    "class DoubleLinkedList:\n",
    "    def __init__(self):\n",
    "        self.head = None\n",
    "        self.tail = None\n",
    "        self.length = 0\n",
    "    \n",
    "    def is_empty(self):\n",
    "        return True if self.length == 0 else False\n",
    "    \n",
    "    def insert_at_beginning(self, val):\n",
    "        if not isinstance(val, DoubleNode):\n",
    "            val = DoubleNode(val)\n",
    "        \n",
    "        if self.is_empty():\n",
    "            self.head = self.tail = val\n",
    "        else:\n",
    "            val.set_next(self.head)\n",
    "            self.head.set_prev(val)\n",
    "            val.set_prev(None)\n",
    "            self.head = val\n",
    "        self.length += 1\n",
    "        return self.head\n",
    "    \n",
    "    def insert_at_end(self, val):\n",
    "        if not isinstance(val, DoubleNode):\n",
    "            val = DoubleNode(val)\n",
    "\n",
    "        if self.is_empty():\n",
    "            self.head = self.tail = val\n",
    "        else:\n",
    "            self.tail.set_next(val)\n",
    "            val.set_prev(self.tail)\n",
    "            val.set_next(None)\n",
    "            self.tail = val\n",
    "        self.length += 1\n",
    "        return self.tail"
   ]
  }
 ],
 "metadata": {
  "kernelspec": {
   "display_name": "Python 3",
   "language": "python",
   "name": "python3"
  },
  "language_info": {
   "codemirror_mode": {
    "name": "ipython",
    "version": 3
   },
   "file_extension": ".py",
   "mimetype": "text/x-python",
   "name": "python",
   "nbconvert_exporter": "python",
   "pygments_lexer": "ipython3",
   "version": "3.6.8"
  },
  "toc": {
   "base_numbering": 1,
   "nav_menu": {},
   "number_sections": true,
   "sideBar": true,
   "skip_h1_title": false,
   "title_cell": "Table of Contents",
   "title_sidebar": "Contents",
   "toc_cell": false,
   "toc_position": {},
   "toc_section_display": true,
   "toc_window_display": false
  }
 },
 "nbformat": 4,
 "nbformat_minor": 2
}
